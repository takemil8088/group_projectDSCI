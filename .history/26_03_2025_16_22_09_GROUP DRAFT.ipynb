{
 "cells": [
  {
   "cell_type": "code",
   "execution_count": null,
   "id": "8d880a45-3b6e-46d4-a315-b573f10959dc",
   "metadata": {},
   "outputs": [],
   "source": [
    "library(tidyverse)\n",
    "library(repr)\n",
    "library(tidymodels)\n",
    "source(\"cleanup.R\")"
   ]
  },
  {
   "cell_type": "code",
   "execution_count": null,
   "id": "f86a51b0-0896-4f46-86a0-8137b1d152c9",
   "metadata": {},
   "outputs": [],
   "source": [
    "set.seed(1)\n",
    "\n",
    "url_pl <- \"https://raw.githubusercontent.com/takemil8088/ind-porject/refs/heads/main/players.csv\"\n",
    "players <- read_csv(url_pl) |>\n",
    "select(experience,subscribe,played_hours,gender,Age) |>\n",
    "filter(!is.na(experience),!is.na(subscribe),!is.na(played_hours),!is.na(gender),!is.na(Age)) |>\n",
    "mutate(subscribe = as_factor(subscribe))\n",
    "players"
   ]
  },
  {
   "cell_type": "code",
   "execution_count": null,
   "id": "b89690c3-4fb8-45ea-8a46-a98a7ae13d68",
   "metadata": {},
   "outputs": [],
   "source": [
    "split <- initial_split(players, prop = 0.75, strata = subscribe)\n",
    "train <- training(split)\n",
    "test <- testing(split)"
   ]
  },
  {
   "cell_type": "code",
   "execution_count": null,
   "id": "451cef93-650d-4dfc-ab68-27964e167d60",
   "metadata": {},
   "outputs": [],
   "source": [
    "vfold <- vfold_cv(train, v = 5, strata = subscribe)\n",
    "\n",
    "recipe <- recipe(subscribe ~ played_hours + Age, data = train) |>\n",
    "  step_scale(all_predictors()) |>\n",
    "  step_center(all_predictors())\n",
    "\n",
    "knn_spec <- nearest_neighbor(weight_func = \"rectangular\", neighbors = 3) |>\n",
    "  set_engine(\"kknn\") |>\n",
    "  set_mode(\"classification\")\n",
    "\n",
    "knn_fit <- workflow() |>\n",
    "  add_recipe(recipe) |>\n",
    "  add_model(knn_spec) |>\n",
    "  fit_resamples(resamples = vfold)|>\n",
    "                  collect_metrics()\n",
    "\n",
    "knn_fit\n",
    "\n",
    "p_vfold <- vfold_cv(train, v = 10, strata = subscribe)\n",
    "\n",
    "vfold_metrics <- workflow() |>\n",
    "                  add_recipe(recipe) |>\n",
    "                  add_model(knn_spec) |>\n",
    "                  fit_resamples(resamples = p_vfold) |>\n",
    "                  collect_metrics()\n",
    "\n",
    "vfold_metrics"
   ]
  },
  {
   "cell_type": "code",
   "execution_count": null,
   "id": "8a31d83f-40c6-4276-96c3-386e370f979f",
   "metadata": {},
   "outputs": [],
   "source": [
    "knn_spe <- nearest_neighbor(weight_func = \"rectangular\",\n",
    "                             neighbors = tune()) |>\n",
    "  set_engine(\"kknn\") |>\n",
    "  set_mode(\"classification\")\n",
    "\n",
    "k_vals <- tibble(neighbors = seq(from = 1, to = 100, by = 5))\n",
    "\n",
    "knn_results <- workflow() |>\n",
    "  add_recipe(recipe) |>\n",
    "  add_model(knn_spe) |>\n",
    "  tune_grid(resamples = p_vfold, grid = k_vals) |>\n",
    "  collect_metrics()\n",
    "\n",
    "accuracies <- knn_results |>\n",
    "  filter(.metric == \"accuracy\")\n",
    "\n",
    "accuracies"
   ]
  },
  {
   "cell_type": "code",
   "execution_count": null,
   "id": "21baefb6-0bbb-4dad-b90b-fada7bd5f5cf",
   "metadata": {},
   "outputs": [],
   "source": [
    "best_k <- accuracies |>\n",
    "        arrange(desc(mean)) |>\n",
    "        head(1) |>\n",
    "        pull(neighbors)\n",
    "best_k"
   ]
  },
  {
   "cell_type": "code",
   "execution_count": null,
   "id": "704be127-04b9-4609-bbbe-0cfb03429347",
   "metadata": {},
   "outputs": [],
   "source": [
    "precipe <- recipe(subscribe ~ played_hours + Age, data = train) |>\n",
    "  step_scale(all_predictors()) |>\n",
    "  step_center(all_predictors())\n",
    "\n",
    "knn_sp <- nearest_neighbor(weight_func = \"rectangular\", neighbors = best_k) |>\n",
    "  set_engine(\"kknn\") |>\n",
    "  set_mode(\"classification\")\n",
    "\n",
    "knn_fitp <- workflow() |>\n",
    "  add_recipe(precipe) |>\n",
    "  add_model(knn_sp) |>\n",
    "  fit(data = train)\n",
    "\n",
    "knn_fitp"
   ]
  },
  {
   "cell_type": "code",
   "execution_count": null,
   "id": "7fd0fcee-3e57-4c5f-8547-720de3bd001d",
   "metadata": {},
   "outputs": [],
   "source": [
    "p_predictions <- predict(knn_fitp, test) |>\n",
    "  bind_cols(test)\n",
    "\n",
    "p_predictions |>\n",
    "  metrics(truth = subscribe, estimate = .pred_class) |>\n",
    "  filter(.metric == \"accuracy\")\n",
    "\n",
    "p_predictions |> pull(subscribe) |> levels()"
   ]
  },
  {
   "cell_type": "code",
   "execution_count": null,
   "id": "1480e541-a4ba-495f-bbfd-97fdf94bec01",
   "metadata": {},
   "outputs": [],
   "source": [
    "p_predictions |>\n",
    "    precision(truth = subscribe, estimate = .pred_class, event_level = \"second\")"
   ]
  },
  {
   "cell_type": "code",
   "execution_count": null,
   "id": "0b864cbd-85fb-4ce5-8030-3182b5567a1c",
   "metadata": {},
   "outputs": [],
   "source": [
    "p_predictions |>\n",
    "    recall(truth = subscribe, estimate = .pred_class, event_level=\"second\")"
   ]
  },
  {
   "cell_type": "code",
   "execution_count": null,
   "id": "37d72105-a754-4681-a1b2-0f1f63fe90ff",
   "metadata": {},
   "outputs": [],
   "source": []
  }
 ],
 "metadata": {
  "kernelspec": {
   "display_name": "R",
   "language": "R",
   "name": "ir"
  },
  "language_info": {
   "codemirror_mode": "r",
   "file_extension": ".r",
   "mimetype": "text/x-r-source",
   "name": "R",
   "pygments_lexer": "r",
   "version": "4.3.3"
  }
 },
 "nbformat": 4,
 "nbformat_minor": 5
}
