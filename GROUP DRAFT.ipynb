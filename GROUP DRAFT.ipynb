{
 "cells": [
  {
   "cell_type": "code",
   "execution_count": 1,
   "id": "8d880a45-3b6e-46d4-a315-b573f10959dc",
   "metadata": {},
   "outputs": [
    {
     "name": "stderr",
     "output_type": "stream",
     "text": [
      "── \u001b[1mAttaching core tidyverse packages\u001b[22m ──────────────────────── tidyverse 2.0.0 ──\n",
      "\u001b[32m✔\u001b[39m \u001b[34mdplyr    \u001b[39m 1.1.4     \u001b[32m✔\u001b[39m \u001b[34mreadr    \u001b[39m 2.1.5\n",
      "\u001b[32m✔\u001b[39m \u001b[34mforcats  \u001b[39m 1.0.0     \u001b[32m✔\u001b[39m \u001b[34mstringr  \u001b[39m 1.5.1\n",
      "\u001b[32m✔\u001b[39m \u001b[34mggplot2  \u001b[39m 3.5.1     \u001b[32m✔\u001b[39m \u001b[34mtibble   \u001b[39m 3.2.1\n",
      "\u001b[32m✔\u001b[39m \u001b[34mlubridate\u001b[39m 1.9.3     \u001b[32m✔\u001b[39m \u001b[34mtidyr    \u001b[39m 1.3.1\n",
      "\u001b[32m✔\u001b[39m \u001b[34mpurrr    \u001b[39m 1.0.2     \n",
      "── \u001b[1mConflicts\u001b[22m ────────────────────────────────────────── tidyverse_conflicts() ──\n",
      "\u001b[31m✖\u001b[39m \u001b[34mdplyr\u001b[39m::\u001b[32mfilter()\u001b[39m masks \u001b[34mstats\u001b[39m::filter()\n",
      "\u001b[31m✖\u001b[39m \u001b[34mdplyr\u001b[39m::\u001b[32mlag()\u001b[39m    masks \u001b[34mstats\u001b[39m::lag()\n",
      "\u001b[36mℹ\u001b[39m Use the conflicted package (\u001b[3m\u001b[34m<http://conflicted.r-lib.org/>\u001b[39m\u001b[23m) to force all conflicts to become errors\n",
      "── \u001b[1mAttaching packages\u001b[22m ────────────────────────────────────── tidymodels 1.1.1 ──\n",
      "\n",
      "\u001b[32m✔\u001b[39m \u001b[34mbroom       \u001b[39m 1.0.6     \u001b[32m✔\u001b[39m \u001b[34mrsample     \u001b[39m 1.2.1\n",
      "\u001b[32m✔\u001b[39m \u001b[34mdials       \u001b[39m 1.3.0     \u001b[32m✔\u001b[39m \u001b[34mtune        \u001b[39m 1.1.2\n",
      "\u001b[32m✔\u001b[39m \u001b[34minfer       \u001b[39m 1.0.7     \u001b[32m✔\u001b[39m \u001b[34mworkflows   \u001b[39m 1.1.4\n",
      "\u001b[32m✔\u001b[39m \u001b[34mmodeldata   \u001b[39m 1.4.0     \u001b[32m✔\u001b[39m \u001b[34mworkflowsets\u001b[39m 1.0.1\n",
      "\u001b[32m✔\u001b[39m \u001b[34mparsnip     \u001b[39m 1.2.1     \u001b[32m✔\u001b[39m \u001b[34myardstick   \u001b[39m 1.3.1\n",
      "\u001b[32m✔\u001b[39m \u001b[34mrecipes     \u001b[39m 1.1.0     \n",
      "\n",
      "── \u001b[1mConflicts\u001b[22m ───────────────────────────────────────── tidymodels_conflicts() ──\n",
      "\u001b[31m✖\u001b[39m \u001b[34mscales\u001b[39m::\u001b[32mdiscard()\u001b[39m masks \u001b[34mpurrr\u001b[39m::discard()\n",
      "\u001b[31m✖\u001b[39m \u001b[34mdplyr\u001b[39m::\u001b[32mfilter()\u001b[39m   masks \u001b[34mstats\u001b[39m::filter()\n",
      "\u001b[31m✖\u001b[39m \u001b[34mrecipes\u001b[39m::\u001b[32mfixed()\u001b[39m  masks \u001b[34mstringr\u001b[39m::fixed()\n",
      "\u001b[31m✖\u001b[39m \u001b[34mdplyr\u001b[39m::\u001b[32mlag()\u001b[39m      masks \u001b[34mstats\u001b[39m::lag()\n",
      "\u001b[31m✖\u001b[39m \u001b[34myardstick\u001b[39m::\u001b[32mspec()\u001b[39m masks \u001b[34mreadr\u001b[39m::spec()\n",
      "\u001b[31m✖\u001b[39m \u001b[34mrecipes\u001b[39m::\u001b[32mstep()\u001b[39m   masks \u001b[34mstats\u001b[39m::step()\n",
      "\u001b[34m•\u001b[39m Dig deeper into tidy modeling with R at \u001b[32mhttps://www.tmwr.org\u001b[39m\n",
      "\n",
      "Warning message in file(filename, \"r\", encoding = encoding):\n",
      "“cannot open file 'cleanup.R': No such file or directory”\n"
     ]
    },
    {
     "ename": "ERROR",
     "evalue": "Error in file(filename, \"r\", encoding = encoding): cannot open the connection\n",
     "output_type": "error",
     "traceback": [
      "Error in file(filename, \"r\", encoding = encoding): cannot open the connection\nTraceback:\n",
      "1. source(\"cleanup.R\")",
      "2. file(filename, \"r\", encoding = encoding)"
     ]
    }
   ],
   "source": [
    "library(tidyverse)\n",
    "library(repr)\n",
    "library(tidymodels)\n",
    "source(\"cleanup.R\")"
   ]
  },
  {
   "cell_type": "code",
   "execution_count": 3,
   "id": "f86a51b0-0896-4f46-86a0-8137b1d152c9",
   "metadata": {},
   "outputs": [
    {
     "name": "stderr",
     "output_type": "stream",
     "text": [
      "\u001b[1mRows: \u001b[22m\u001b[34m196\u001b[39m \u001b[1mColumns: \u001b[22m\u001b[34m7\u001b[39m\n",
      "\u001b[36m──\u001b[39m \u001b[1mColumn specification\u001b[22m \u001b[36m────────────────────────────────────────────────────────\u001b[39m\n",
      "\u001b[1mDelimiter:\u001b[22m \",\"\n",
      "\u001b[31mchr\u001b[39m (4): experience, hashedEmail, name, gender\n",
      "\u001b[32mdbl\u001b[39m (2): played_hours, Age\n",
      "\u001b[33mlgl\u001b[39m (1): subscribe\n",
      "\n",
      "\u001b[36mℹ\u001b[39m Use `spec()` to retrieve the full column specification for this data.\n",
      "\u001b[36mℹ\u001b[39m Specify the column types or set `show_col_types = FALSE` to quiet this message.\n"
     ]
    },
    {
     "data": {
      "text/html": [
       "<table class=\"dataframe\">\n",
       "<caption>A tibble: 194 × 5</caption>\n",
       "<thead>\n",
       "\t<tr><th scope=col>experience</th><th scope=col>subscribe</th><th scope=col>played_hours</th><th scope=col>gender</th><th scope=col>Age</th></tr>\n",
       "\t<tr><th scope=col>&lt;chr&gt;</th><th scope=col>&lt;fct&gt;</th><th scope=col>&lt;dbl&gt;</th><th scope=col>&lt;chr&gt;</th><th scope=col>&lt;dbl&gt;</th></tr>\n",
       "</thead>\n",
       "<tbody>\n",
       "\t<tr><td>Pro     </td><td>TRUE </td><td>30.3</td><td>Male      </td><td> 9</td></tr>\n",
       "\t<tr><td>Veteran </td><td>TRUE </td><td> 3.8</td><td>Male      </td><td>17</td></tr>\n",
       "\t<tr><td>Veteran </td><td>FALSE</td><td> 0.0</td><td>Male      </td><td>17</td></tr>\n",
       "\t<tr><td>Amateur </td><td>TRUE </td><td> 0.7</td><td>Female    </td><td>21</td></tr>\n",
       "\t<tr><td>Regular </td><td>TRUE </td><td> 0.1</td><td>Male      </td><td>21</td></tr>\n",
       "\t<tr><td>Amateur </td><td>TRUE </td><td> 0.0</td><td>Female    </td><td>17</td></tr>\n",
       "\t<tr><td>Regular </td><td>TRUE </td><td> 0.0</td><td>Female    </td><td>19</td></tr>\n",
       "\t<tr><td>Amateur </td><td>FALSE</td><td> 0.0</td><td>Male      </td><td>21</td></tr>\n",
       "\t<tr><td>Amateur </td><td>TRUE </td><td> 0.1</td><td>Male      </td><td>17</td></tr>\n",
       "\t<tr><td>Veteran </td><td>TRUE </td><td> 0.0</td><td>Female    </td><td>22</td></tr>\n",
       "\t<tr><td>Veteran </td><td>TRUE </td><td> 1.6</td><td>Female    </td><td>23</td></tr>\n",
       "\t<tr><td>Pro     </td><td>TRUE </td><td> 0.0</td><td>Male      </td><td>17</td></tr>\n",
       "\t<tr><td>Beginner</td><td>TRUE </td><td> 1.5</td><td>Female    </td><td>25</td></tr>\n",
       "\t<tr><td>Amateur </td><td>TRUE </td><td> 0.2</td><td>Male      </td><td>22</td></tr>\n",
       "\t<tr><td>Veteran </td><td>TRUE </td><td> 0.0</td><td>Non-binary</td><td>17</td></tr>\n",
       "\t<tr><td>Amateur </td><td>FALSE</td><td> 0.0</td><td>Male      </td><td>22</td></tr>\n",
       "\t<tr><td>Beginner</td><td>TRUE </td><td> 0.0</td><td>Female    </td><td>17</td></tr>\n",
       "\t<tr><td>Amateur </td><td>TRUE </td><td>48.4</td><td>Female    </td><td>17</td></tr>\n",
       "\t<tr><td>Amateur </td><td>TRUE </td><td> 0.5</td><td>Male      </td><td>17</td></tr>\n",
       "\t<tr><td>Regular </td><td>TRUE </td><td> 0.6</td><td>Male      </td><td>19</td></tr>\n",
       "\t<tr><td>Regular </td><td>TRUE </td><td> 0.3</td><td>Male      </td><td> 8</td></tr>\n",
       "\t<tr><td>Amateur </td><td>FALSE</td><td> 0.1</td><td>Female    </td><td>17</td></tr>\n",
       "\t<tr><td>Beginner</td><td>TRUE </td><td> 1.0</td><td>Male      </td><td>17</td></tr>\n",
       "\t<tr><td>Beginner</td><td>TRUE </td><td> 0.0</td><td>Male      </td><td>17</td></tr>\n",
       "\t<tr><td>Amateur </td><td>TRUE </td><td> 0.7</td><td>Female    </td><td>21</td></tr>\n",
       "\t<tr><td>Regular </td><td>TRUE </td><td> 0.6</td><td>Female    </td><td>28</td></tr>\n",
       "\t<tr><td>Regular </td><td>TRUE </td><td> 0.0</td><td>Male      </td><td>17</td></tr>\n",
       "\t<tr><td>Veteran </td><td>FALSE</td><td> 0.0</td><td>Male      </td><td>23</td></tr>\n",
       "\t<tr><td>Amateur </td><td>TRUE </td><td> 1.8</td><td>Male      </td><td>23</td></tr>\n",
       "\t<tr><td>Veteran </td><td>FALSE</td><td> 0.1</td><td>Male      </td><td>18</td></tr>\n",
       "\t<tr><td>⋮</td><td>⋮</td><td>⋮</td><td>⋮</td><td>⋮</td></tr>\n",
       "\t<tr><td>Regular </td><td>TRUE </td><td> 0.1</td><td>Male             </td><td>21</td></tr>\n",
       "\t<tr><td>Amateur </td><td>FALSE</td><td> 1.0</td><td>Male             </td><td>26</td></tr>\n",
       "\t<tr><td>Beginner</td><td>FALSE</td><td> 0.3</td><td>Female           </td><td>17</td></tr>\n",
       "\t<tr><td>Veteran </td><td>TRUE </td><td> 0.1</td><td>Male             </td><td>17</td></tr>\n",
       "\t<tr><td>Veteran </td><td>FALSE</td><td> 0.1</td><td>Male             </td><td>17</td></tr>\n",
       "\t<tr><td>Pro     </td><td>FALSE</td><td> 0.4</td><td>Male             </td><td>21</td></tr>\n",
       "\t<tr><td>Beginner</td><td>FALSE</td><td> 1.8</td><td>Male             </td><td>32</td></tr>\n",
       "\t<tr><td>Veteran </td><td>TRUE </td><td> 0.0</td><td>Agender          </td><td>20</td></tr>\n",
       "\t<tr><td>Regular </td><td>FALSE</td><td> 0.0</td><td>Male             </td><td>50</td></tr>\n",
       "\t<tr><td>Veteran </td><td>TRUE </td><td> 0.0</td><td>Male             </td><td>17</td></tr>\n",
       "\t<tr><td>Amateur </td><td>TRUE </td><td> 0.3</td><td>Male             </td><td>17</td></tr>\n",
       "\t<tr><td>Pro     </td><td>FALSE</td><td> 0.0</td><td>Non-binary       </td><td>17</td></tr>\n",
       "\t<tr><td>Veteran </td><td>FALSE</td><td> 2.7</td><td>Non-binary       </td><td>21</td></tr>\n",
       "\t<tr><td>Amateur </td><td>TRUE </td><td> 0.4</td><td>Two-Spirited     </td><td>17</td></tr>\n",
       "\t<tr><td>Veteran </td><td>TRUE </td><td> 0.1</td><td>Non-binary       </td><td>17</td></tr>\n",
       "\t<tr><td>Amateur </td><td>FALSE</td><td> 2.1</td><td>Male             </td><td>24</td></tr>\n",
       "\t<tr><td>Amateur </td><td>TRUE </td><td> 0.8</td><td>Female           </td><td>22</td></tr>\n",
       "\t<tr><td>Pro     </td><td>FALSE</td><td> 0.2</td><td>Male             </td><td>17</td></tr>\n",
       "\t<tr><td>Amateur </td><td>TRUE </td><td>32.0</td><td>Male             </td><td>22</td></tr>\n",
       "\t<tr><td>Pro     </td><td>FALSE</td><td> 1.7</td><td>Male             </td><td>17</td></tr>\n",
       "\t<tr><td>Regular </td><td>FALSE</td><td> 0.1</td><td>Male             </td><td>18</td></tr>\n",
       "\t<tr><td>Veteran </td><td>TRUE </td><td> 0.1</td><td>Female           </td><td>44</td></tr>\n",
       "\t<tr><td>Amateur </td><td>TRUE </td><td> 0.0</td><td>Male             </td><td>17</td></tr>\n",
       "\t<tr><td>Beginner</td><td>TRUE </td><td> 0.0</td><td>Female           </td><td>17</td></tr>\n",
       "\t<tr><td>Amateur </td><td>FALSE</td><td> 0.0</td><td>Male             </td><td>17</td></tr>\n",
       "\t<tr><td>Amateur </td><td>TRUE </td><td> 0.0</td><td>Male             </td><td>20</td></tr>\n",
       "\t<tr><td>Amateur </td><td>TRUE </td><td> 0.0</td><td>Female           </td><td>17</td></tr>\n",
       "\t<tr><td>Veteran </td><td>FALSE</td><td> 0.3</td><td>Male             </td><td>22</td></tr>\n",
       "\t<tr><td>Amateur </td><td>FALSE</td><td> 0.0</td><td>Prefer not to say</td><td>17</td></tr>\n",
       "\t<tr><td>Amateur </td><td>FALSE</td><td> 2.3</td><td>Male             </td><td>17</td></tr>\n",
       "</tbody>\n",
       "</table>\n"
      ],
      "text/latex": [
       "A tibble: 194 × 5\n",
       "\\begin{tabular}{lllll}\n",
       " experience & subscribe & played\\_hours & gender & Age\\\\\n",
       " <chr> & <fct> & <dbl> & <chr> & <dbl>\\\\\n",
       "\\hline\n",
       "\t Pro      & TRUE  & 30.3 & Male       &  9\\\\\n",
       "\t Veteran  & TRUE  &  3.8 & Male       & 17\\\\\n",
       "\t Veteran  & FALSE &  0.0 & Male       & 17\\\\\n",
       "\t Amateur  & TRUE  &  0.7 & Female     & 21\\\\\n",
       "\t Regular  & TRUE  &  0.1 & Male       & 21\\\\\n",
       "\t Amateur  & TRUE  &  0.0 & Female     & 17\\\\\n",
       "\t Regular  & TRUE  &  0.0 & Female     & 19\\\\\n",
       "\t Amateur  & FALSE &  0.0 & Male       & 21\\\\\n",
       "\t Amateur  & TRUE  &  0.1 & Male       & 17\\\\\n",
       "\t Veteran  & TRUE  &  0.0 & Female     & 22\\\\\n",
       "\t Veteran  & TRUE  &  1.6 & Female     & 23\\\\\n",
       "\t Pro      & TRUE  &  0.0 & Male       & 17\\\\\n",
       "\t Beginner & TRUE  &  1.5 & Female     & 25\\\\\n",
       "\t Amateur  & TRUE  &  0.2 & Male       & 22\\\\\n",
       "\t Veteran  & TRUE  &  0.0 & Non-binary & 17\\\\\n",
       "\t Amateur  & FALSE &  0.0 & Male       & 22\\\\\n",
       "\t Beginner & TRUE  &  0.0 & Female     & 17\\\\\n",
       "\t Amateur  & TRUE  & 48.4 & Female     & 17\\\\\n",
       "\t Amateur  & TRUE  &  0.5 & Male       & 17\\\\\n",
       "\t Regular  & TRUE  &  0.6 & Male       & 19\\\\\n",
       "\t Regular  & TRUE  &  0.3 & Male       &  8\\\\\n",
       "\t Amateur  & FALSE &  0.1 & Female     & 17\\\\\n",
       "\t Beginner & TRUE  &  1.0 & Male       & 17\\\\\n",
       "\t Beginner & TRUE  &  0.0 & Male       & 17\\\\\n",
       "\t Amateur  & TRUE  &  0.7 & Female     & 21\\\\\n",
       "\t Regular  & TRUE  &  0.6 & Female     & 28\\\\\n",
       "\t Regular  & TRUE  &  0.0 & Male       & 17\\\\\n",
       "\t Veteran  & FALSE &  0.0 & Male       & 23\\\\\n",
       "\t Amateur  & TRUE  &  1.8 & Male       & 23\\\\\n",
       "\t Veteran  & FALSE &  0.1 & Male       & 18\\\\\n",
       "\t ⋮ & ⋮ & ⋮ & ⋮ & ⋮\\\\\n",
       "\t Regular  & TRUE  &  0.1 & Male              & 21\\\\\n",
       "\t Amateur  & FALSE &  1.0 & Male              & 26\\\\\n",
       "\t Beginner & FALSE &  0.3 & Female            & 17\\\\\n",
       "\t Veteran  & TRUE  &  0.1 & Male              & 17\\\\\n",
       "\t Veteran  & FALSE &  0.1 & Male              & 17\\\\\n",
       "\t Pro      & FALSE &  0.4 & Male              & 21\\\\\n",
       "\t Beginner & FALSE &  1.8 & Male              & 32\\\\\n",
       "\t Veteran  & TRUE  &  0.0 & Agender           & 20\\\\\n",
       "\t Regular  & FALSE &  0.0 & Male              & 50\\\\\n",
       "\t Veteran  & TRUE  &  0.0 & Male              & 17\\\\\n",
       "\t Amateur  & TRUE  &  0.3 & Male              & 17\\\\\n",
       "\t Pro      & FALSE &  0.0 & Non-binary        & 17\\\\\n",
       "\t Veteran  & FALSE &  2.7 & Non-binary        & 21\\\\\n",
       "\t Amateur  & TRUE  &  0.4 & Two-Spirited      & 17\\\\\n",
       "\t Veteran  & TRUE  &  0.1 & Non-binary        & 17\\\\\n",
       "\t Amateur  & FALSE &  2.1 & Male              & 24\\\\\n",
       "\t Amateur  & TRUE  &  0.8 & Female            & 22\\\\\n",
       "\t Pro      & FALSE &  0.2 & Male              & 17\\\\\n",
       "\t Amateur  & TRUE  & 32.0 & Male              & 22\\\\\n",
       "\t Pro      & FALSE &  1.7 & Male              & 17\\\\\n",
       "\t Regular  & FALSE &  0.1 & Male              & 18\\\\\n",
       "\t Veteran  & TRUE  &  0.1 & Female            & 44\\\\\n",
       "\t Amateur  & TRUE  &  0.0 & Male              & 17\\\\\n",
       "\t Beginner & TRUE  &  0.0 & Female            & 17\\\\\n",
       "\t Amateur  & FALSE &  0.0 & Male              & 17\\\\\n",
       "\t Amateur  & TRUE  &  0.0 & Male              & 20\\\\\n",
       "\t Amateur  & TRUE  &  0.0 & Female            & 17\\\\\n",
       "\t Veteran  & FALSE &  0.3 & Male              & 22\\\\\n",
       "\t Amateur  & FALSE &  0.0 & Prefer not to say & 17\\\\\n",
       "\t Amateur  & FALSE &  2.3 & Male              & 17\\\\\n",
       "\\end{tabular}\n"
      ],
      "text/markdown": [
       "\n",
       "A tibble: 194 × 5\n",
       "\n",
       "| experience &lt;chr&gt; | subscribe &lt;fct&gt; | played_hours &lt;dbl&gt; | gender &lt;chr&gt; | Age &lt;dbl&gt; |\n",
       "|---|---|---|---|---|\n",
       "| Pro      | TRUE  | 30.3 | Male       |  9 |\n",
       "| Veteran  | TRUE  |  3.8 | Male       | 17 |\n",
       "| Veteran  | FALSE |  0.0 | Male       | 17 |\n",
       "| Amateur  | TRUE  |  0.7 | Female     | 21 |\n",
       "| Regular  | TRUE  |  0.1 | Male       | 21 |\n",
       "| Amateur  | TRUE  |  0.0 | Female     | 17 |\n",
       "| Regular  | TRUE  |  0.0 | Female     | 19 |\n",
       "| Amateur  | FALSE |  0.0 | Male       | 21 |\n",
       "| Amateur  | TRUE  |  0.1 | Male       | 17 |\n",
       "| Veteran  | TRUE  |  0.0 | Female     | 22 |\n",
       "| Veteran  | TRUE  |  1.6 | Female     | 23 |\n",
       "| Pro      | TRUE  |  0.0 | Male       | 17 |\n",
       "| Beginner | TRUE  |  1.5 | Female     | 25 |\n",
       "| Amateur  | TRUE  |  0.2 | Male       | 22 |\n",
       "| Veteran  | TRUE  |  0.0 | Non-binary | 17 |\n",
       "| Amateur  | FALSE |  0.0 | Male       | 22 |\n",
       "| Beginner | TRUE  |  0.0 | Female     | 17 |\n",
       "| Amateur  | TRUE  | 48.4 | Female     | 17 |\n",
       "| Amateur  | TRUE  |  0.5 | Male       | 17 |\n",
       "| Regular  | TRUE  |  0.6 | Male       | 19 |\n",
       "| Regular  | TRUE  |  0.3 | Male       |  8 |\n",
       "| Amateur  | FALSE |  0.1 | Female     | 17 |\n",
       "| Beginner | TRUE  |  1.0 | Male       | 17 |\n",
       "| Beginner | TRUE  |  0.0 | Male       | 17 |\n",
       "| Amateur  | TRUE  |  0.7 | Female     | 21 |\n",
       "| Regular  | TRUE  |  0.6 | Female     | 28 |\n",
       "| Regular  | TRUE  |  0.0 | Male       | 17 |\n",
       "| Veteran  | FALSE |  0.0 | Male       | 23 |\n",
       "| Amateur  | TRUE  |  1.8 | Male       | 23 |\n",
       "| Veteran  | FALSE |  0.1 | Male       | 18 |\n",
       "| ⋮ | ⋮ | ⋮ | ⋮ | ⋮ |\n",
       "| Regular  | TRUE  |  0.1 | Male              | 21 |\n",
       "| Amateur  | FALSE |  1.0 | Male              | 26 |\n",
       "| Beginner | FALSE |  0.3 | Female            | 17 |\n",
       "| Veteran  | TRUE  |  0.1 | Male              | 17 |\n",
       "| Veteran  | FALSE |  0.1 | Male              | 17 |\n",
       "| Pro      | FALSE |  0.4 | Male              | 21 |\n",
       "| Beginner | FALSE |  1.8 | Male              | 32 |\n",
       "| Veteran  | TRUE  |  0.0 | Agender           | 20 |\n",
       "| Regular  | FALSE |  0.0 | Male              | 50 |\n",
       "| Veteran  | TRUE  |  0.0 | Male              | 17 |\n",
       "| Amateur  | TRUE  |  0.3 | Male              | 17 |\n",
       "| Pro      | FALSE |  0.0 | Non-binary        | 17 |\n",
       "| Veteran  | FALSE |  2.7 | Non-binary        | 21 |\n",
       "| Amateur  | TRUE  |  0.4 | Two-Spirited      | 17 |\n",
       "| Veteran  | TRUE  |  0.1 | Non-binary        | 17 |\n",
       "| Amateur  | FALSE |  2.1 | Male              | 24 |\n",
       "| Amateur  | TRUE  |  0.8 | Female            | 22 |\n",
       "| Pro      | FALSE |  0.2 | Male              | 17 |\n",
       "| Amateur  | TRUE  | 32.0 | Male              | 22 |\n",
       "| Pro      | FALSE |  1.7 | Male              | 17 |\n",
       "| Regular  | FALSE |  0.1 | Male              | 18 |\n",
       "| Veteran  | TRUE  |  0.1 | Female            | 44 |\n",
       "| Amateur  | TRUE  |  0.0 | Male              | 17 |\n",
       "| Beginner | TRUE  |  0.0 | Female            | 17 |\n",
       "| Amateur  | FALSE |  0.0 | Male              | 17 |\n",
       "| Amateur  | TRUE  |  0.0 | Male              | 20 |\n",
       "| Amateur  | TRUE  |  0.0 | Female            | 17 |\n",
       "| Veteran  | FALSE |  0.3 | Male              | 22 |\n",
       "| Amateur  | FALSE |  0.0 | Prefer not to say | 17 |\n",
       "| Amateur  | FALSE |  2.3 | Male              | 17 |\n",
       "\n"
      ],
      "text/plain": [
       "    experience subscribe played_hours gender            Age\n",
       "1   Pro        TRUE      30.3         Male               9 \n",
       "2   Veteran    TRUE       3.8         Male              17 \n",
       "3   Veteran    FALSE      0.0         Male              17 \n",
       "4   Amateur    TRUE       0.7         Female            21 \n",
       "5   Regular    TRUE       0.1         Male              21 \n",
       "6   Amateur    TRUE       0.0         Female            17 \n",
       "7   Regular    TRUE       0.0         Female            19 \n",
       "8   Amateur    FALSE      0.0         Male              21 \n",
       "9   Amateur    TRUE       0.1         Male              17 \n",
       "10  Veteran    TRUE       0.0         Female            22 \n",
       "11  Veteran    TRUE       1.6         Female            23 \n",
       "12  Pro        TRUE       0.0         Male              17 \n",
       "13  Beginner   TRUE       1.5         Female            25 \n",
       "14  Amateur    TRUE       0.2         Male              22 \n",
       "15  Veteran    TRUE       0.0         Non-binary        17 \n",
       "16  Amateur    FALSE      0.0         Male              22 \n",
       "17  Beginner   TRUE       0.0         Female            17 \n",
       "18  Amateur    TRUE      48.4         Female            17 \n",
       "19  Amateur    TRUE       0.5         Male              17 \n",
       "20  Regular    TRUE       0.6         Male              19 \n",
       "21  Regular    TRUE       0.3         Male               8 \n",
       "22  Amateur    FALSE      0.1         Female            17 \n",
       "23  Beginner   TRUE       1.0         Male              17 \n",
       "24  Beginner   TRUE       0.0         Male              17 \n",
       "25  Amateur    TRUE       0.7         Female            21 \n",
       "26  Regular    TRUE       0.6         Female            28 \n",
       "27  Regular    TRUE       0.0         Male              17 \n",
       "28  Veteran    FALSE      0.0         Male              23 \n",
       "29  Amateur    TRUE       1.8         Male              23 \n",
       "30  Veteran    FALSE      0.1         Male              18 \n",
       "⋮   ⋮          ⋮         ⋮            ⋮                 ⋮  \n",
       "165 Regular    TRUE       0.1         Male              21 \n",
       "166 Amateur    FALSE      1.0         Male              26 \n",
       "167 Beginner   FALSE      0.3         Female            17 \n",
       "168 Veteran    TRUE       0.1         Male              17 \n",
       "169 Veteran    FALSE      0.1         Male              17 \n",
       "170 Pro        FALSE      0.4         Male              21 \n",
       "171 Beginner   FALSE      1.8         Male              32 \n",
       "172 Veteran    TRUE       0.0         Agender           20 \n",
       "173 Regular    FALSE      0.0         Male              50 \n",
       "174 Veteran    TRUE       0.0         Male              17 \n",
       "175 Amateur    TRUE       0.3         Male              17 \n",
       "176 Pro        FALSE      0.0         Non-binary        17 \n",
       "177 Veteran    FALSE      2.7         Non-binary        21 \n",
       "178 Amateur    TRUE       0.4         Two-Spirited      17 \n",
       "179 Veteran    TRUE       0.1         Non-binary        17 \n",
       "180 Amateur    FALSE      2.1         Male              24 \n",
       "181 Amateur    TRUE       0.8         Female            22 \n",
       "182 Pro        FALSE      0.2         Male              17 \n",
       "183 Amateur    TRUE      32.0         Male              22 \n",
       "184 Pro        FALSE      1.7         Male              17 \n",
       "185 Regular    FALSE      0.1         Male              18 \n",
       "186 Veteran    TRUE       0.1         Female            44 \n",
       "187 Amateur    TRUE       0.0         Male              17 \n",
       "188 Beginner   TRUE       0.0         Female            17 \n",
       "189 Amateur    FALSE      0.0         Male              17 \n",
       "190 Amateur    TRUE       0.0         Male              20 \n",
       "191 Amateur    TRUE       0.0         Female            17 \n",
       "192 Veteran    FALSE      0.3         Male              22 \n",
       "193 Amateur    FALSE      0.0         Prefer not to say 17 \n",
       "194 Amateur    FALSE      2.3         Male              17 "
      ]
     },
     "metadata": {},
     "output_type": "display_data"
    }
   ],
   "source": [
    "set.seed(1)\n",
    "\n",
    "url_pl <- \"https://raw.githubusercontent.com/takemil8088/ind-porject/refs/heads/main/players.csv\"\n",
    "players <- read_csv(url_pl) |>\n",
    "select(experience,subscribe,played_hours,gender,Age) |>\n",
    "filter(!is.na(experience),!is.na(subscribe),!is.na(played_hours),!is.na(gender),!is.na(Age)) |>\n",
    "mutate(subscribe = as_factor(subscribe))\n",
    "players"
   ]
  },
  {
   "cell_type": "code",
   "execution_count": 13,
   "id": "b89690c3-4fb8-45ea-8a46-a98a7ae13d68",
   "metadata": {},
   "outputs": [],
   "source": [
    "split <- initial_split(players, prop = 0.75, strata = subscribe)\n",
    "train <- training(split)\n",
    "test <- testing(split)"
   ]
  },
  {
   "cell_type": "code",
   "execution_count": 14,
   "id": "451cef93-650d-4dfc-ab68-27964e167d60",
   "metadata": {},
   "outputs": [
    {
     "data": {
      "text/html": [
       "<table class=\"dataframe\">\n",
       "<caption>A tibble: 2 × 6</caption>\n",
       "<thead>\n",
       "\t<tr><th scope=col>.metric</th><th scope=col>.estimator</th><th scope=col>mean</th><th scope=col>n</th><th scope=col>std_err</th><th scope=col>.config</th></tr>\n",
       "\t<tr><th scope=col>&lt;chr&gt;</th><th scope=col>&lt;chr&gt;</th><th scope=col>&lt;dbl&gt;</th><th scope=col>&lt;int&gt;</th><th scope=col>&lt;dbl&gt;</th><th scope=col>&lt;chr&gt;</th></tr>\n",
       "</thead>\n",
       "<tbody>\n",
       "\t<tr><td>accuracy</td><td>binary</td><td>0.5586371</td><td>5</td><td>0.04645523</td><td>Preprocessor1_Model1</td></tr>\n",
       "\t<tr><td>roc_auc </td><td>binary</td><td>0.4940476</td><td>5</td><td>0.04679344</td><td>Preprocessor1_Model1</td></tr>\n",
       "</tbody>\n",
       "</table>\n"
      ],
      "text/latex": [
       "A tibble: 2 × 6\n",
       "\\begin{tabular}{llllll}\n",
       " .metric & .estimator & mean & n & std\\_err & .config\\\\\n",
       " <chr> & <chr> & <dbl> & <int> & <dbl> & <chr>\\\\\n",
       "\\hline\n",
       "\t accuracy & binary & 0.5586371 & 5 & 0.04645523 & Preprocessor1\\_Model1\\\\\n",
       "\t roc\\_auc  & binary & 0.4940476 & 5 & 0.04679344 & Preprocessor1\\_Model1\\\\\n",
       "\\end{tabular}\n"
      ],
      "text/markdown": [
       "\n",
       "A tibble: 2 × 6\n",
       "\n",
       "| .metric &lt;chr&gt; | .estimator &lt;chr&gt; | mean &lt;dbl&gt; | n &lt;int&gt; | std_err &lt;dbl&gt; | .config &lt;chr&gt; |\n",
       "|---|---|---|---|---|---|\n",
       "| accuracy | binary | 0.5586371 | 5 | 0.04645523 | Preprocessor1_Model1 |\n",
       "| roc_auc  | binary | 0.4940476 | 5 | 0.04679344 | Preprocessor1_Model1 |\n",
       "\n"
      ],
      "text/plain": [
       "  .metric  .estimator mean      n std_err    .config             \n",
       "1 accuracy binary     0.5586371 5 0.04645523 Preprocessor1_Model1\n",
       "2 roc_auc  binary     0.4940476 5 0.04679344 Preprocessor1_Model1"
      ]
     },
     "metadata": {},
     "output_type": "display_data"
    },
    {
     "data": {
      "text/html": [
       "<table class=\"dataframe\">\n",
       "<caption>A tibble: 2 × 6</caption>\n",
       "<thead>\n",
       "\t<tr><th scope=col>.metric</th><th scope=col>.estimator</th><th scope=col>mean</th><th scope=col>n</th><th scope=col>std_err</th><th scope=col>.config</th></tr>\n",
       "\t<tr><th scope=col>&lt;chr&gt;</th><th scope=col>&lt;chr&gt;</th><th scope=col>&lt;dbl&gt;</th><th scope=col>&lt;int&gt;</th><th scope=col>&lt;dbl&gt;</th><th scope=col>&lt;chr&gt;</th></tr>\n",
       "</thead>\n",
       "<tbody>\n",
       "\t<tr><td>accuracy</td><td>binary</td><td>0.5862271</td><td>10</td><td>0.02813311</td><td>Preprocessor1_Model1</td></tr>\n",
       "\t<tr><td>roc_auc </td><td>binary</td><td>0.5298864</td><td>10</td><td>0.04608404</td><td>Preprocessor1_Model1</td></tr>\n",
       "</tbody>\n",
       "</table>\n"
      ],
      "text/latex": [
       "A tibble: 2 × 6\n",
       "\\begin{tabular}{llllll}\n",
       " .metric & .estimator & mean & n & std\\_err & .config\\\\\n",
       " <chr> & <chr> & <dbl> & <int> & <dbl> & <chr>\\\\\n",
       "\\hline\n",
       "\t accuracy & binary & 0.5862271 & 10 & 0.02813311 & Preprocessor1\\_Model1\\\\\n",
       "\t roc\\_auc  & binary & 0.5298864 & 10 & 0.04608404 & Preprocessor1\\_Model1\\\\\n",
       "\\end{tabular}\n"
      ],
      "text/markdown": [
       "\n",
       "A tibble: 2 × 6\n",
       "\n",
       "| .metric &lt;chr&gt; | .estimator &lt;chr&gt; | mean &lt;dbl&gt; | n &lt;int&gt; | std_err &lt;dbl&gt; | .config &lt;chr&gt; |\n",
       "|---|---|---|---|---|---|\n",
       "| accuracy | binary | 0.5862271 | 10 | 0.02813311 | Preprocessor1_Model1 |\n",
       "| roc_auc  | binary | 0.5298864 | 10 | 0.04608404 | Preprocessor1_Model1 |\n",
       "\n"
      ],
      "text/plain": [
       "  .metric  .estimator mean      n  std_err    .config             \n",
       "1 accuracy binary     0.5862271 10 0.02813311 Preprocessor1_Model1\n",
       "2 roc_auc  binary     0.5298864 10 0.04608404 Preprocessor1_Model1"
      ]
     },
     "metadata": {},
     "output_type": "display_data"
    }
   ],
   "source": [
    "vfold <- vfold_cv(train, v = 5, strata = subscribe)\n",
    "\n",
    "recipe <- recipe(subscribe ~ played_hours + Age, data = train) |>\n",
    "  step_scale(all_predictors()) |>\n",
    "  step_center(all_predictors())\n",
    "\n",
    "knn_spec <- nearest_neighbor(weight_func = \"rectangular\", neighbors = 3) |>\n",
    "  set_engine(\"kknn\") |>\n",
    "  set_mode(\"classification\")\n",
    "\n",
    "knn_fit <- workflow() |>\n",
    "  add_recipe(recipe) |>\n",
    "  add_model(knn_spec) |>\n",
    "  fit_resamples(resamples = vfold)|>\n",
    "                  collect_metrics()\n",
    "\n",
    "knn_fit\n",
    "\n",
    "p_vfold <- vfold_cv(train, v = 10, strata = subscribe)\n",
    "\n",
    "vfold_metrics <- workflow() |>\n",
    "                  add_recipe(recipe) |>\n",
    "                  add_model(knn_spec) |>\n",
    "                  fit_resamples(resamples = p_vfold) |>\n",
    "                  collect_metrics()\n",
    "\n",
    "vfold_metrics"
   ]
  },
  {
   "cell_type": "code",
   "execution_count": 17,
   "id": "8a31d83f-40c6-4276-96c3-386e370f979f",
   "metadata": {},
   "outputs": [
    {
     "data": {
      "text/html": [
       "<table class=\"dataframe\">\n",
       "<caption>A tibble: 20 × 7</caption>\n",
       "<thead>\n",
       "\t<tr><th scope=col>neighbors</th><th scope=col>.metric</th><th scope=col>.estimator</th><th scope=col>mean</th><th scope=col>n</th><th scope=col>std_err</th><th scope=col>.config</th></tr>\n",
       "\t<tr><th scope=col>&lt;dbl&gt;</th><th scope=col>&lt;chr&gt;</th><th scope=col>&lt;chr&gt;</th><th scope=col>&lt;dbl&gt;</th><th scope=col>&lt;int&gt;</th><th scope=col>&lt;dbl&gt;</th><th scope=col>&lt;chr&gt;</th></tr>\n",
       "</thead>\n",
       "<tbody>\n",
       "\t<tr><td> 1</td><td>accuracy</td><td>binary</td><td>0.4551282</td><td>10</td><td>0.041352745</td><td>Preprocessor1_Model01</td></tr>\n",
       "\t<tr><td> 6</td><td>accuracy</td><td>binary</td><td>0.6338462</td><td>10</td><td>0.021128487</td><td>Preprocessor1_Model02</td></tr>\n",
       "\t<tr><td>11</td><td>accuracy</td><td>binary</td><td>0.5809890</td><td>10</td><td>0.041527343</td><td>Preprocessor1_Model03</td></tr>\n",
       "\t<tr><td>16</td><td>accuracy</td><td>binary</td><td>0.6697070</td><td>10</td><td>0.020215006</td><td>Preprocessor1_Model04</td></tr>\n",
       "\t<tr><td>21</td><td>accuracy</td><td>binary</td><td>0.7312088</td><td>10</td><td>0.005090213</td><td>Preprocessor1_Model05</td></tr>\n",
       "\t<tr><td>26</td><td>accuracy</td><td>binary</td><td>0.7312088</td><td>10</td><td>0.005090213</td><td>Preprocessor1_Model06</td></tr>\n",
       "\t<tr><td>31</td><td>accuracy</td><td>binary</td><td>0.7312088</td><td>10</td><td>0.005090213</td><td>Preprocessor1_Model07</td></tr>\n",
       "\t<tr><td>36</td><td>accuracy</td><td>binary</td><td>0.7312088</td><td>10</td><td>0.005090213</td><td>Preprocessor1_Model08</td></tr>\n",
       "\t<tr><td>41</td><td>accuracy</td><td>binary</td><td>0.7312088</td><td>10</td><td>0.005090213</td><td>Preprocessor1_Model09</td></tr>\n",
       "\t<tr><td>46</td><td>accuracy</td><td>binary</td><td>0.7312088</td><td>10</td><td>0.005090213</td><td>Preprocessor1_Model10</td></tr>\n",
       "\t<tr><td>51</td><td>accuracy</td><td>binary</td><td>0.7312088</td><td>10</td><td>0.005090213</td><td>Preprocessor1_Model11</td></tr>\n",
       "\t<tr><td>56</td><td>accuracy</td><td>binary</td><td>0.7312088</td><td>10</td><td>0.005090213</td><td>Preprocessor1_Model12</td></tr>\n",
       "\t<tr><td>61</td><td>accuracy</td><td>binary</td><td>0.7312088</td><td>10</td><td>0.005090213</td><td>Preprocessor1_Model13</td></tr>\n",
       "\t<tr><td>66</td><td>accuracy</td><td>binary</td><td>0.7312088</td><td>10</td><td>0.005090213</td><td>Preprocessor1_Model14</td></tr>\n",
       "\t<tr><td>71</td><td>accuracy</td><td>binary</td><td>0.7312088</td><td>10</td><td>0.005090213</td><td>Preprocessor1_Model15</td></tr>\n",
       "\t<tr><td>76</td><td>accuracy</td><td>binary</td><td>0.7312088</td><td>10</td><td>0.005090213</td><td>Preprocessor1_Model16</td></tr>\n",
       "\t<tr><td>81</td><td>accuracy</td><td>binary</td><td>0.7312088</td><td>10</td><td>0.005090213</td><td>Preprocessor1_Model17</td></tr>\n",
       "\t<tr><td>86</td><td>accuracy</td><td>binary</td><td>0.7312088</td><td>10</td><td>0.005090213</td><td>Preprocessor1_Model18</td></tr>\n",
       "\t<tr><td>91</td><td>accuracy</td><td>binary</td><td>0.7312088</td><td>10</td><td>0.005090213</td><td>Preprocessor1_Model19</td></tr>\n",
       "\t<tr><td>96</td><td>accuracy</td><td>binary</td><td>0.7312088</td><td>10</td><td>0.005090213</td><td>Preprocessor1_Model20</td></tr>\n",
       "</tbody>\n",
       "</table>\n"
      ],
      "text/latex": [
       "A tibble: 20 × 7\n",
       "\\begin{tabular}{lllllll}\n",
       " neighbors & .metric & .estimator & mean & n & std\\_err & .config\\\\\n",
       " <dbl> & <chr> & <chr> & <dbl> & <int> & <dbl> & <chr>\\\\\n",
       "\\hline\n",
       "\t  1 & accuracy & binary & 0.4551282 & 10 & 0.041352745 & Preprocessor1\\_Model01\\\\\n",
       "\t  6 & accuracy & binary & 0.6338462 & 10 & 0.021128487 & Preprocessor1\\_Model02\\\\\n",
       "\t 11 & accuracy & binary & 0.5809890 & 10 & 0.041527343 & Preprocessor1\\_Model03\\\\\n",
       "\t 16 & accuracy & binary & 0.6697070 & 10 & 0.020215006 & Preprocessor1\\_Model04\\\\\n",
       "\t 21 & accuracy & binary & 0.7312088 & 10 & 0.005090213 & Preprocessor1\\_Model05\\\\\n",
       "\t 26 & accuracy & binary & 0.7312088 & 10 & 0.005090213 & Preprocessor1\\_Model06\\\\\n",
       "\t 31 & accuracy & binary & 0.7312088 & 10 & 0.005090213 & Preprocessor1\\_Model07\\\\\n",
       "\t 36 & accuracy & binary & 0.7312088 & 10 & 0.005090213 & Preprocessor1\\_Model08\\\\\n",
       "\t 41 & accuracy & binary & 0.7312088 & 10 & 0.005090213 & Preprocessor1\\_Model09\\\\\n",
       "\t 46 & accuracy & binary & 0.7312088 & 10 & 0.005090213 & Preprocessor1\\_Model10\\\\\n",
       "\t 51 & accuracy & binary & 0.7312088 & 10 & 0.005090213 & Preprocessor1\\_Model11\\\\\n",
       "\t 56 & accuracy & binary & 0.7312088 & 10 & 0.005090213 & Preprocessor1\\_Model12\\\\\n",
       "\t 61 & accuracy & binary & 0.7312088 & 10 & 0.005090213 & Preprocessor1\\_Model13\\\\\n",
       "\t 66 & accuracy & binary & 0.7312088 & 10 & 0.005090213 & Preprocessor1\\_Model14\\\\\n",
       "\t 71 & accuracy & binary & 0.7312088 & 10 & 0.005090213 & Preprocessor1\\_Model15\\\\\n",
       "\t 76 & accuracy & binary & 0.7312088 & 10 & 0.005090213 & Preprocessor1\\_Model16\\\\\n",
       "\t 81 & accuracy & binary & 0.7312088 & 10 & 0.005090213 & Preprocessor1\\_Model17\\\\\n",
       "\t 86 & accuracy & binary & 0.7312088 & 10 & 0.005090213 & Preprocessor1\\_Model18\\\\\n",
       "\t 91 & accuracy & binary & 0.7312088 & 10 & 0.005090213 & Preprocessor1\\_Model19\\\\\n",
       "\t 96 & accuracy & binary & 0.7312088 & 10 & 0.005090213 & Preprocessor1\\_Model20\\\\\n",
       "\\end{tabular}\n"
      ],
      "text/markdown": [
       "\n",
       "A tibble: 20 × 7\n",
       "\n",
       "| neighbors &lt;dbl&gt; | .metric &lt;chr&gt; | .estimator &lt;chr&gt; | mean &lt;dbl&gt; | n &lt;int&gt; | std_err &lt;dbl&gt; | .config &lt;chr&gt; |\n",
       "|---|---|---|---|---|---|---|\n",
       "|  1 | accuracy | binary | 0.4551282 | 10 | 0.041352745 | Preprocessor1_Model01 |\n",
       "|  6 | accuracy | binary | 0.6338462 | 10 | 0.021128487 | Preprocessor1_Model02 |\n",
       "| 11 | accuracy | binary | 0.5809890 | 10 | 0.041527343 | Preprocessor1_Model03 |\n",
       "| 16 | accuracy | binary | 0.6697070 | 10 | 0.020215006 | Preprocessor1_Model04 |\n",
       "| 21 | accuracy | binary | 0.7312088 | 10 | 0.005090213 | Preprocessor1_Model05 |\n",
       "| 26 | accuracy | binary | 0.7312088 | 10 | 0.005090213 | Preprocessor1_Model06 |\n",
       "| 31 | accuracy | binary | 0.7312088 | 10 | 0.005090213 | Preprocessor1_Model07 |\n",
       "| 36 | accuracy | binary | 0.7312088 | 10 | 0.005090213 | Preprocessor1_Model08 |\n",
       "| 41 | accuracy | binary | 0.7312088 | 10 | 0.005090213 | Preprocessor1_Model09 |\n",
       "| 46 | accuracy | binary | 0.7312088 | 10 | 0.005090213 | Preprocessor1_Model10 |\n",
       "| 51 | accuracy | binary | 0.7312088 | 10 | 0.005090213 | Preprocessor1_Model11 |\n",
       "| 56 | accuracy | binary | 0.7312088 | 10 | 0.005090213 | Preprocessor1_Model12 |\n",
       "| 61 | accuracy | binary | 0.7312088 | 10 | 0.005090213 | Preprocessor1_Model13 |\n",
       "| 66 | accuracy | binary | 0.7312088 | 10 | 0.005090213 | Preprocessor1_Model14 |\n",
       "| 71 | accuracy | binary | 0.7312088 | 10 | 0.005090213 | Preprocessor1_Model15 |\n",
       "| 76 | accuracy | binary | 0.7312088 | 10 | 0.005090213 | Preprocessor1_Model16 |\n",
       "| 81 | accuracy | binary | 0.7312088 | 10 | 0.005090213 | Preprocessor1_Model17 |\n",
       "| 86 | accuracy | binary | 0.7312088 | 10 | 0.005090213 | Preprocessor1_Model18 |\n",
       "| 91 | accuracy | binary | 0.7312088 | 10 | 0.005090213 | Preprocessor1_Model19 |\n",
       "| 96 | accuracy | binary | 0.7312088 | 10 | 0.005090213 | Preprocessor1_Model20 |\n",
       "\n"
      ],
      "text/plain": [
       "   neighbors .metric  .estimator mean      n  std_err     .config              \n",
       "1   1        accuracy binary     0.4551282 10 0.041352745 Preprocessor1_Model01\n",
       "2   6        accuracy binary     0.6338462 10 0.021128487 Preprocessor1_Model02\n",
       "3  11        accuracy binary     0.5809890 10 0.041527343 Preprocessor1_Model03\n",
       "4  16        accuracy binary     0.6697070 10 0.020215006 Preprocessor1_Model04\n",
       "5  21        accuracy binary     0.7312088 10 0.005090213 Preprocessor1_Model05\n",
       "6  26        accuracy binary     0.7312088 10 0.005090213 Preprocessor1_Model06\n",
       "7  31        accuracy binary     0.7312088 10 0.005090213 Preprocessor1_Model07\n",
       "8  36        accuracy binary     0.7312088 10 0.005090213 Preprocessor1_Model08\n",
       "9  41        accuracy binary     0.7312088 10 0.005090213 Preprocessor1_Model09\n",
       "10 46        accuracy binary     0.7312088 10 0.005090213 Preprocessor1_Model10\n",
       "11 51        accuracy binary     0.7312088 10 0.005090213 Preprocessor1_Model11\n",
       "12 56        accuracy binary     0.7312088 10 0.005090213 Preprocessor1_Model12\n",
       "13 61        accuracy binary     0.7312088 10 0.005090213 Preprocessor1_Model13\n",
       "14 66        accuracy binary     0.7312088 10 0.005090213 Preprocessor1_Model14\n",
       "15 71        accuracy binary     0.7312088 10 0.005090213 Preprocessor1_Model15\n",
       "16 76        accuracy binary     0.7312088 10 0.005090213 Preprocessor1_Model16\n",
       "17 81        accuracy binary     0.7312088 10 0.005090213 Preprocessor1_Model17\n",
       "18 86        accuracy binary     0.7312088 10 0.005090213 Preprocessor1_Model18\n",
       "19 91        accuracy binary     0.7312088 10 0.005090213 Preprocessor1_Model19\n",
       "20 96        accuracy binary     0.7312088 10 0.005090213 Preprocessor1_Model20"
      ]
     },
     "metadata": {},
     "output_type": "display_data"
    }
   ],
   "source": [
    "knn_spe <- nearest_neighbor(weight_func = \"rectangular\",\n",
    "                             neighbors = tune()) |>\n",
    "  set_engine(\"kknn\") |>\n",
    "  set_mode(\"classification\")\n",
    "\n",
    "k_vals <- tibble(neighbors = seq(from = 1, to = 100, by = 5))\n",
    "\n",
    "knn_results <- workflow() |>\n",
    "  add_recipe(recipe) |>\n",
    "  add_model(knn_spe) |>\n",
    "  tune_grid(resamples = p_vfold, grid = k_vals) |>\n",
    "  collect_metrics()\n",
    "\n",
    "accuracies <- knn_results |>\n",
    "  filter(.metric == \"accuracy\")\n",
    "\n",
    "accuracies"
   ]
  },
  {
   "cell_type": "code",
   "execution_count": 18,
   "id": "21baefb6-0bbb-4dad-b90b-fada7bd5f5cf",
   "metadata": {},
   "outputs": [
    {
     "data": {
      "text/html": [
       "21"
      ],
      "text/latex": [
       "21"
      ],
      "text/markdown": [
       "21"
      ],
      "text/plain": [
       "[1] 21"
      ]
     },
     "metadata": {},
     "output_type": "display_data"
    }
   ],
   "source": [
    "best_k <- accuracies |>\n",
    "        arrange(desc(mean)) |>\n",
    "        head(1) |>\n",
    "        pull(neighbors)\n",
    "best_k"
   ]
  },
  {
   "cell_type": "code",
   "execution_count": 21,
   "id": "704be127-04b9-4609-bbbe-0cfb03429347",
   "metadata": {},
   "outputs": [
    {
     "data": {
      "text/plain": [
       "══ Workflow [trained] ══════════════════════════════════════════════════════════\n",
       "\u001b[3mPreprocessor:\u001b[23m Recipe\n",
       "\u001b[3mModel:\u001b[23m nearest_neighbor()\n",
       "\n",
       "── Preprocessor ────────────────────────────────────────────────────────────────\n",
       "2 Recipe Steps\n",
       "\n",
       "• step_scale()\n",
       "• step_center()\n",
       "\n",
       "── Model ───────────────────────────────────────────────────────────────────────\n",
       "\n",
       "Call:\n",
       "kknn::train.kknn(formula = ..y ~ ., data = data, ks = min_rows(21,     data, 5), kernel = ~\"rectangular\")\n",
       "\n",
       "Type of response variable: nominal\n",
       "Minimal misclassification: 0.2689655\n",
       "Best kernel: rectangular\n",
       "Best k: 21"
      ]
     },
     "metadata": {},
     "output_type": "display_data"
    }
   ],
   "source": [
    "precipe <- recipe(subscribe ~ played_hours + Age, data = train) |>\n",
    "  step_scale(all_predictors()) |>\n",
    "  step_center(all_predictors())\n",
    "\n",
    "knn_sp <- nearest_neighbor(weight_func = \"rectangular\", neighbors = best_k) |>\n",
    "  set_engine(\"kknn\") |>\n",
    "  set_mode(\"classification\")\n",
    "\n",
    "knn_fitp <- workflow() |>\n",
    "  add_recipe(precipe) |>\n",
    "  add_model(knn_sp) |>\n",
    "  fit(data = train)\n",
    "\n",
    "knn_fitp"
   ]
  },
  {
   "cell_type": "code",
   "execution_count": 25,
   "id": "7fd0fcee-3e57-4c5f-8547-720de3bd001d",
   "metadata": {},
   "outputs": [
    {
     "data": {
      "text/html": [
       "<table class=\"dataframe\">\n",
       "<caption>A tibble: 1 × 3</caption>\n",
       "<thead>\n",
       "\t<tr><th scope=col>.metric</th><th scope=col>.estimator</th><th scope=col>.estimate</th></tr>\n",
       "\t<tr><th scope=col>&lt;chr&gt;</th><th scope=col>&lt;chr&gt;</th><th scope=col>&lt;dbl&gt;</th></tr>\n",
       "</thead>\n",
       "<tbody>\n",
       "\t<tr><td>accuracy</td><td>binary</td><td>0.7346939</td></tr>\n",
       "</tbody>\n",
       "</table>\n"
      ],
      "text/latex": [
       "A tibble: 1 × 3\n",
       "\\begin{tabular}{lll}\n",
       " .metric & .estimator & .estimate\\\\\n",
       " <chr> & <chr> & <dbl>\\\\\n",
       "\\hline\n",
       "\t accuracy & binary & 0.7346939\\\\\n",
       "\\end{tabular}\n"
      ],
      "text/markdown": [
       "\n",
       "A tibble: 1 × 3\n",
       "\n",
       "| .metric &lt;chr&gt; | .estimator &lt;chr&gt; | .estimate &lt;dbl&gt; |\n",
       "|---|---|---|\n",
       "| accuracy | binary | 0.7346939 |\n",
       "\n"
      ],
      "text/plain": [
       "  .metric  .estimator .estimate\n",
       "1 accuracy binary     0.7346939"
      ]
     },
     "metadata": {},
     "output_type": "display_data"
    },
    {
     "data": {
      "text/html": [
       "<style>\n",
       ".list-inline {list-style: none; margin:0; padding: 0}\n",
       ".list-inline>li {display: inline-block}\n",
       ".list-inline>li:not(:last-child)::after {content: \"\\00b7\"; padding: 0 .5ex}\n",
       "</style>\n",
       "<ol class=list-inline><li>'FALSE'</li><li>'TRUE'</li></ol>\n"
      ],
      "text/latex": [
       "\\begin{enumerate*}\n",
       "\\item 'FALSE'\n",
       "\\item 'TRUE'\n",
       "\\end{enumerate*}\n"
      ],
      "text/markdown": [
       "1. 'FALSE'\n",
       "2. 'TRUE'\n",
       "\n",
       "\n"
      ],
      "text/plain": [
       "[1] \"FALSE\" \"TRUE\" "
      ]
     },
     "metadata": {},
     "output_type": "display_data"
    }
   ],
   "source": [
    "p_predictions <- predict(knn_fitp, test) |>\n",
    "  bind_cols(test)\n",
    "\n",
    "p_predictions |>\n",
    "  metrics(truth = subscribe, estimate = .pred_class) |>\n",
    "  filter(.metric == \"accuracy\")\n",
    "\n",
    "p_predictions |> pull(subscribe) |> levels()"
   ]
  },
  {
   "cell_type": "code",
   "execution_count": 26,
   "id": "1480e541-a4ba-495f-bbfd-97fdf94bec01",
   "metadata": {},
   "outputs": [
    {
     "data": {
      "text/html": [
       "<table class=\"dataframe\">\n",
       "<caption>A tibble: 1 × 3</caption>\n",
       "<thead>\n",
       "\t<tr><th scope=col>.metric</th><th scope=col>.estimator</th><th scope=col>.estimate</th></tr>\n",
       "\t<tr><th scope=col>&lt;chr&gt;</th><th scope=col>&lt;chr&gt;</th><th scope=col>&lt;dbl&gt;</th></tr>\n",
       "</thead>\n",
       "<tbody>\n",
       "\t<tr><td>precision</td><td>binary</td><td>0.7346939</td></tr>\n",
       "</tbody>\n",
       "</table>\n"
      ],
      "text/latex": [
       "A tibble: 1 × 3\n",
       "\\begin{tabular}{lll}\n",
       " .metric & .estimator & .estimate\\\\\n",
       " <chr> & <chr> & <dbl>\\\\\n",
       "\\hline\n",
       "\t precision & binary & 0.7346939\\\\\n",
       "\\end{tabular}\n"
      ],
      "text/markdown": [
       "\n",
       "A tibble: 1 × 3\n",
       "\n",
       "| .metric &lt;chr&gt; | .estimator &lt;chr&gt; | .estimate &lt;dbl&gt; |\n",
       "|---|---|---|\n",
       "| precision | binary | 0.7346939 |\n",
       "\n"
      ],
      "text/plain": [
       "  .metric   .estimator .estimate\n",
       "1 precision binary     0.7346939"
      ]
     },
     "metadata": {},
     "output_type": "display_data"
    }
   ],
   "source": [
    "p_predictions |>\n",
    "    precision(truth = subscribe, estimate = .pred_class, event_level = \"second\")"
   ]
  },
  {
   "cell_type": "code",
   "execution_count": 27,
   "id": "0b864cbd-85fb-4ce5-8030-3182b5567a1c",
   "metadata": {},
   "outputs": [
    {
     "data": {
      "text/html": [
       "<table class=\"dataframe\">\n",
       "<caption>A tibble: 1 × 3</caption>\n",
       "<thead>\n",
       "\t<tr><th scope=col>.metric</th><th scope=col>.estimator</th><th scope=col>.estimate</th></tr>\n",
       "\t<tr><th scope=col>&lt;chr&gt;</th><th scope=col>&lt;chr&gt;</th><th scope=col>&lt;dbl&gt;</th></tr>\n",
       "</thead>\n",
       "<tbody>\n",
       "\t<tr><td>recall</td><td>binary</td><td>1</td></tr>\n",
       "</tbody>\n",
       "</table>\n"
      ],
      "text/latex": [
       "A tibble: 1 × 3\n",
       "\\begin{tabular}{lll}\n",
       " .metric & .estimator & .estimate\\\\\n",
       " <chr> & <chr> & <dbl>\\\\\n",
       "\\hline\n",
       "\t recall & binary & 1\\\\\n",
       "\\end{tabular}\n"
      ],
      "text/markdown": [
       "\n",
       "A tibble: 1 × 3\n",
       "\n",
       "| .metric &lt;chr&gt; | .estimator &lt;chr&gt; | .estimate &lt;dbl&gt; |\n",
       "|---|---|---|\n",
       "| recall | binary | 1 |\n",
       "\n"
      ],
      "text/plain": [
       "  .metric .estimator .estimate\n",
       "1 recall  binary     1        "
      ]
     },
     "metadata": {},
     "output_type": "display_data"
    }
   ],
   "source": [
    "p_predictions |>\n",
    "    recall(truth = subscribe, estimate = .pred_class, event_level=\"second\")"
   ]
  },
  {
   "cell_type": "markdown",
   "id": "cf5ec721-b6e1-4d6f-ad03-f544fedfa312",
   "metadata": {},
   "source": [
    "Introduction:\n",
    "\n",
    "provide some relevant background information on the topic so that someone unfamiliar with it will be prepared to understand the rest of your report\n",
    "clearly state the question you tried to answer with your project\n",
    "identify and fully describe the dataset that was used to answer the question\n",
    "\n",
    "The gaming industry is expanding by the year, and efforts are made to study player's actions for a more targetted recruitment. To achieve this, researchers must predict what types of players are more likely to contribute to the games and determine which player characteristics and behaviours are most predictive of subscribing to a game-related newsletter, and how these features differ between various player types. This science project aims to specifically answer whether play hours and the player's age predict whether a player will subscribe to the Minecraft newsletter or not. In order to answer this, we used data obtained from a Minecraft server which contain specific player information and whether they subscribe to the newsletter or not. The dataset, named \"players\", portrays a list of players and their data (7 variables, 196 observations): player's experience (amateur, beginner, pro, regular, veteran), subscription status (TRUE: subscribed to newsletter, FALSE: not subscribed), hashed Email that uniquely identifies each player, game play hours, player name, player gender, and player age. \n",
    "The dataset reveals that 144 players are subscribed, and 52 are not. Play hours range from 0 to 223.1 hours, and age range from 8 to 50 years old.\n"
   ]
  }
 ],
 "metadata": {
  "kernelspec": {
   "display_name": "R",
   "language": "R",
   "name": "ir"
  },
  "language_info": {
   "codemirror_mode": "r",
   "file_extension": ".r",
   "mimetype": "text/x-r-source",
   "name": "R",
   "pygments_lexer": "r",
   "version": "4.3.3"
  }
 },
 "nbformat": 4,
 "nbformat_minor": 5
}
