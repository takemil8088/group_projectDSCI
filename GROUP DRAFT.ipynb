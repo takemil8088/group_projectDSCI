{
 "cells": [
  {
   "cell_type": "code",
   "execution_count": 1,
   "id": "8d880a45-3b6e-46d4-a315-b573f10959dc",
   "metadata": {
    "scrolled": true
   },
   "outputs": [
    {
     "name": "stderr",
     "output_type": "stream",
     "text": [
      "── \u001b[1mAttaching core tidyverse packages\u001b[22m ──────────────────────── tidyverse 2.0.0 ──\n",
      "\u001b[32m✔\u001b[39m \u001b[34mdplyr    \u001b[39m 1.1.4     \u001b[32m✔\u001b[39m \u001b[34mreadr    \u001b[39m 2.1.5\n",
      "\u001b[32m✔\u001b[39m \u001b[34mforcats  \u001b[39m 1.0.0     \u001b[32m✔\u001b[39m \u001b[34mstringr  \u001b[39m 1.5.1\n",
      "\u001b[32m✔\u001b[39m \u001b[34mggplot2  \u001b[39m 3.5.1     \u001b[32m✔\u001b[39m \u001b[34mtibble   \u001b[39m 3.2.1\n",
      "\u001b[32m✔\u001b[39m \u001b[34mlubridate\u001b[39m 1.9.3     \u001b[32m✔\u001b[39m \u001b[34mtidyr    \u001b[39m 1.3.1\n",
      "\u001b[32m✔\u001b[39m \u001b[34mpurrr    \u001b[39m 1.0.2     \n",
      "── \u001b[1mConflicts\u001b[22m ────────────────────────────────────────── tidyverse_conflicts() ──\n",
      "\u001b[31m✖\u001b[39m \u001b[34mdplyr\u001b[39m::\u001b[32mfilter()\u001b[39m masks \u001b[34mstats\u001b[39m::filter()\n",
      "\u001b[31m✖\u001b[39m \u001b[34mdplyr\u001b[39m::\u001b[32mlag()\u001b[39m    masks \u001b[34mstats\u001b[39m::lag()\n",
      "\u001b[36mℹ\u001b[39m Use the conflicted package (\u001b[3m\u001b[34m<http://conflicted.r-lib.org/>\u001b[39m\u001b[23m) to force all conflicts to become errors\n",
      "── \u001b[1mAttaching packages\u001b[22m ────────────────────────────────────── tidymodels 1.1.1 ──\n",
      "\n",
      "\u001b[32m✔\u001b[39m \u001b[34mbroom       \u001b[39m 1.0.6     \u001b[32m✔\u001b[39m \u001b[34mrsample     \u001b[39m 1.2.1\n",
      "\u001b[32m✔\u001b[39m \u001b[34mdials       \u001b[39m 1.3.0     \u001b[32m✔\u001b[39m \u001b[34mtune        \u001b[39m 1.1.2\n",
      "\u001b[32m✔\u001b[39m \u001b[34minfer       \u001b[39m 1.0.7     \u001b[32m✔\u001b[39m \u001b[34mworkflows   \u001b[39m 1.1.4\n",
      "\u001b[32m✔\u001b[39m \u001b[34mmodeldata   \u001b[39m 1.4.0     \u001b[32m✔\u001b[39m \u001b[34mworkflowsets\u001b[39m 1.0.1\n",
      "\u001b[32m✔\u001b[39m \u001b[34mparsnip     \u001b[39m 1.2.1     \u001b[32m✔\u001b[39m \u001b[34myardstick   \u001b[39m 1.3.1\n",
      "\u001b[32m✔\u001b[39m \u001b[34mrecipes     \u001b[39m 1.1.0     \n",
      "\n",
      "── \u001b[1mConflicts\u001b[22m ───────────────────────────────────────── tidymodels_conflicts() ──\n",
      "\u001b[31m✖\u001b[39m \u001b[34mscales\u001b[39m::\u001b[32mdiscard()\u001b[39m masks \u001b[34mpurrr\u001b[39m::discard()\n",
      "\u001b[31m✖\u001b[39m \u001b[34mdplyr\u001b[39m::\u001b[32mfilter()\u001b[39m   masks \u001b[34mstats\u001b[39m::filter()\n",
      "\u001b[31m✖\u001b[39m \u001b[34mrecipes\u001b[39m::\u001b[32mfixed()\u001b[39m  masks \u001b[34mstringr\u001b[39m::fixed()\n",
      "\u001b[31m✖\u001b[39m \u001b[34mdplyr\u001b[39m::\u001b[32mlag()\u001b[39m      masks \u001b[34mstats\u001b[39m::lag()\n",
      "\u001b[31m✖\u001b[39m \u001b[34myardstick\u001b[39m::\u001b[32mspec()\u001b[39m masks \u001b[34mreadr\u001b[39m::spec()\n",
      "\u001b[31m✖\u001b[39m \u001b[34mrecipes\u001b[39m::\u001b[32mstep()\u001b[39m   masks \u001b[34mstats\u001b[39m::step()\n",
      "\u001b[34m•\u001b[39m Use \u001b[32mtidymodels_prefer()\u001b[39m to resolve common conflicts.\n",
      "\n",
      "Warning message in file(filename, \"r\", encoding = encoding):\n",
      "“cannot open file 'cleanup.R': No such file or directory”\n"
     ]
    },
    {
     "ename": "ERROR",
     "evalue": "Error in file(filename, \"r\", encoding = encoding): cannot open the connection\n",
     "output_type": "error",
     "traceback": [
      "Error in file(filename, \"r\", encoding = encoding): cannot open the connection\nTraceback:\n",
      "1. source(\"cleanup.R\")",
      "2. file(filename, \"r\", encoding = encoding)"
     ]
    }
   ],
   "source": [
    "library(tidyverse)\n",
    "library(repr)\n",
    "library(tidymodels)\n",
    "source(\"cleanup.R\")"
   ]
  },
  {
   "cell_type": "markdown",
   "id": "e2241dc5-ecfd-4fcc-b070-aedfc8739ce5",
   "metadata": {},
   "source": [
    "# Data Science Project: Can Age and Played Hours predict if a Player is Subscribed?\n",
    "\n",
    "by Millie Sohn, Markus Chu, Mhad Khan Sherwani and Sai Manas Pandrangi"
   ]
  },
  {
   "cell_type": "markdown",
   "id": "cf5ec721-b6e1-4d6f-ad03-f544fedfa312",
   "metadata": {},
   "source": [
    "## Introduction:\n",
    "\n",
    "The gaming industry is expanding by the year, and efforts are made to study player's actions for a more targetted recruitment. To achieve this, researchers must predict what types of players are more likely to contribute to the games and determine which player characteristics and behaviours are most predictive of subscribing to a game-related newsletter, and how these features differ between various player types. This science project aims to specifically answer whether play hours and the player's age predict whether a player will subscribe to the Minecraft newsletter or not. In order to answer this, we used data obtained from a Minecraft server which contain specific player information and whether they subscribe to the newsletter or not. The dataset, named \"players\", portrays a list of players and their data (7 variables, 196 observations): player's experience (amateur, beginner, pro, regular, veteran), subscription status (TRUE: subscribed to newsletter, FALSE: not subscribed), hashed Email that uniquely identifies each player, game play hours, player name, player gender, and player age. \n",
    "The dataset reveals that 144 players are subscribed, and 52 are not. Play hours range from 0 to 223.1 hours, and age range from 8 to 50 years old.\n"
   ]
  },
  {
   "cell_type": "markdown",
   "id": "e575c99a-47e6-4bc3-8922-e5d34edb1acc",
   "metadata": {},
   "source": [
    "## Methods & Results:"
   ]
  },
  {
   "cell_type": "markdown",
   "id": "efe12bb0-82b2-4fd2-a967-8f8da4271656",
   "metadata": {},
   "source": [
    "We will be answering our question using K-nearest neighbors Classification, tuning our model to obtain the highest prediction accuracy. \n",
    "\n",
    "The predictors we will be using will be strictly numerical: total time the player spent playing (hours) and player age (years). The categorical variable we will be predicting is \"subscribe\" (TRUE; subscribed or FALSE; not subscribed). \n",
    "Summary of wrangled dataset:\n",
    "- Player subscribed: (144) and not subscribed (52)\n",
    "- Play hours range: 0 to 223.1 hours\n",
    "- Age range: 8 to 50 y.o. Majority are 17 (75).\n",
    "\n",
    "The players dataset was wrangled to counter some potential issues, including the removal of NA values. The dataset also included some outliers where some players were much older or younger than the mean (which was 20.5 years), or where players played significantly more or less hours than the mean (which was 5.9 hours). However, these outliers were kept to contain the data size and retain information for the model to train off of. "
   ]
  },
  {
   "cell_type": "code",
   "execution_count": 2,
   "id": "f86a51b0-0896-4f46-86a0-8137b1d152c9",
   "metadata": {
    "scrolled": true
   },
   "outputs": [
    {
     "name": "stderr",
     "output_type": "stream",
     "text": [
      "\u001b[1mRows: \u001b[22m\u001b[34m196\u001b[39m \u001b[1mColumns: \u001b[22m\u001b[34m7\u001b[39m\n",
      "\u001b[36m──\u001b[39m \u001b[1mColumn specification\u001b[22m \u001b[36m────────────────────────────────────────────────────────\u001b[39m\n",
      "\u001b[1mDelimiter:\u001b[22m \",\"\n",
      "\u001b[31mchr\u001b[39m (4): experience, hashedEmail, name, gender\n",
      "\u001b[32mdbl\u001b[39m (2): played_hours, Age\n",
      "\u001b[33mlgl\u001b[39m (1): subscribe\n",
      "\n",
      "\u001b[36mℹ\u001b[39m Use `spec()` to retrieve the full column specification for this data.\n",
      "\u001b[36mℹ\u001b[39m Specify the column types or set `show_col_types = FALSE` to quiet this message.\n"
     ]
    },
    {
     "data": {
      "text/html": [
       "<table class=\"dataframe\">\n",
       "<caption>A tibble: 5 × 3</caption>\n",
       "<thead>\n",
       "\t<tr><th scope=col>subscribe</th><th scope=col>played_hours</th><th scope=col>age</th></tr>\n",
       "\t<tr><th scope=col>&lt;fct&gt;</th><th scope=col>&lt;dbl&gt;</th><th scope=col>&lt;dbl&gt;</th></tr>\n",
       "</thead>\n",
       "<tbody>\n",
       "\t<tr><td>TRUE </td><td>30.3</td><td> 9</td></tr>\n",
       "\t<tr><td>TRUE </td><td> 3.8</td><td>17</td></tr>\n",
       "\t<tr><td>FALSE</td><td> 0.0</td><td>17</td></tr>\n",
       "\t<tr><td>TRUE </td><td> 0.7</td><td>21</td></tr>\n",
       "\t<tr><td>TRUE </td><td> 0.1</td><td>21</td></tr>\n",
       "</tbody>\n",
       "</table>\n"
      ],
      "text/latex": [
       "A tibble: 5 × 3\n",
       "\\begin{tabular}{lll}\n",
       " subscribe & played\\_hours & age\\\\\n",
       " <fct> & <dbl> & <dbl>\\\\\n",
       "\\hline\n",
       "\t TRUE  & 30.3 &  9\\\\\n",
       "\t TRUE  &  3.8 & 17\\\\\n",
       "\t FALSE &  0.0 & 17\\\\\n",
       "\t TRUE  &  0.7 & 21\\\\\n",
       "\t TRUE  &  0.1 & 21\\\\\n",
       "\\end{tabular}\n"
      ],
      "text/markdown": [
       "\n",
       "A tibble: 5 × 3\n",
       "\n",
       "| subscribe &lt;fct&gt; | played_hours &lt;dbl&gt; | age &lt;dbl&gt; |\n",
       "|---|---|---|\n",
       "| TRUE  | 30.3 |  9 |\n",
       "| TRUE  |  3.8 | 17 |\n",
       "| FALSE |  0.0 | 17 |\n",
       "| TRUE  |  0.7 | 21 |\n",
       "| TRUE  |  0.1 | 21 |\n",
       "\n"
      ],
      "text/plain": [
       "  subscribe played_hours age\n",
       "1 TRUE      30.3          9 \n",
       "2 TRUE       3.8         17 \n",
       "3 FALSE      0.0         17 \n",
       "4 TRUE       0.7         21 \n",
       "5 TRUE       0.1         21 "
      ]
     },
     "metadata": {},
     "output_type": "display_data"
    }
   ],
   "source": [
    "set.seed(1)\n",
    "\n",
    "url_pl <- \"https://raw.githubusercontent.com/takemil8088/ind-porject/refs/heads/main/players.csv\"\n",
    "players <- read_csv(url_pl) |>\n",
    "select(subscribe, played_hours, Age) |>\n",
    "filter(!is.na(subscribe), !is.na(played_hours), !is.na(Age)) |>\n",
    "mutate(subscribe = as_factor(subscribe)) |>\n",
    "rename(age = Age)\n",
    "\n",
    "show_players <- players |> head(5)\n",
    "show_players"
   ]
  },
  {
   "cell_type": "markdown",
   "id": "7608dec9-3833-47dc-8dc1-1e5baac16a8a",
   "metadata": {},
   "source": [
    "Visualizations reveal some key information on the relationship between variables and their subscription status."
   ]
  },
  {
   "cell_type": "code",
   "execution_count": null,
   "id": "82e76425-f9ad-4ced-bbad-e6faa30cbf3a",
   "metadata": {
    "scrolled": true
   },
   "outputs": [],
   "source": [
    "relation_played_hours_age <- players |>\n",
    "    select(age, played_hours, subscribe) |>\n",
    "    ggplot(aes(x = age, y = played_hours, colour = subscribe)) +\n",
    "    geom_point() +\n",
    "    labs(x = \"Age (Years)\",\n",
    "         y = \"Playing Time (Hours)\",\n",
    "         colour = \"Subscription\",\n",
    "         title = \"Graph 1: Playing Time vs. Age\") +\n",
    "    theme(text = element_text(size = 15))\n",
    "\n",
    "relation_played_hours_age\n",
    "\n",
    "age_subscribe_plot <- players |>\n",
    "    select(age, subscribe) |>\n",
    "    ggplot(aes(x = age, fill = subscribe)) +\n",
    "    geom_bar(position = \"fill\") +\n",
    "    labs(x = \"Age (Years)\",\n",
    "         y = \"Ratio of Subscribed and Not Subscribed (0-1)\",\n",
    "         fill = \"Subscribed\",\n",
    "         title = \"Graph 2: Relationship of Age and Game Subscription\") +\n",
    "    theme(text = element_text(size = 15))\n",
    "\n",
    "age_subscribe_plot"
   ]
  },
  {
   "cell_type": "markdown",
   "id": "bb7a6f70-67f4-4c63-b872-831f45618395",
   "metadata": {},
   "source": [
    "Graph 1 shows how most players with more playing hours tend to subscribe to the newsletter, and the majority are roughly ages 15 to 25 years old. Players who do not subscribe also have fewer play hours (~0-2 hours) and are all aged 17 and up.\n",
    "\n",
    "Graph 2 reveals how the majority of players aged ~10 to 30 overall subscribe to the newsletter. Older players, 30 and up, tend not to subscribe."
   ]
  },
  {
   "cell_type": "markdown",
   "id": "59893ac1-4708-4318-86a2-d02211734b36",
   "metadata": {},
   "source": [
    "#### KNN Classification Model:\n",
    "To train our KNN model to obtain higher accuracy, we split our data into 75% for training and 25% for testing. "
   ]
  },
  {
   "cell_type": "code",
   "execution_count": null,
   "id": "b89690c3-4fb8-45ea-8a46-a98a7ae13d68",
   "metadata": {},
   "outputs": [],
   "source": [
    "split <- initial_split(players, prop = 0.75, strata = subscribe)\n",
    "train <- training(split)\n",
    "test <- testing(split)"
   ]
  },
  {
   "cell_type": "markdown",
   "id": "6d4e2ba3-3708-4da3-9ebd-3242913feb74",
   "metadata": {},
   "source": [
    "To choose the best K that improves accuracy, we performed cross-validation. The k_vals dataframe contains a sequence of values for K, from 1 to 100 (stepping by 1). A smaller step size was used for a finer search grid, allowing for a more precise evaluation of the model's performance."
   ]
  },
  {
   "cell_type": "code",
   "execution_count": null,
   "id": "8a31d83f-40c6-4276-96c3-386e370f979f",
   "metadata": {},
   "outputs": [],
   "source": [
    "knn_spec <- nearest_neighbor(weight_func = \"rectangular\",\n",
    "                             neighbors = tune()) |>\n",
    "  set_engine(\"kknn\") |>\n",
    "  set_mode(\"classification\")\n",
    "\n",
    "recipe <- recipe(subscribe ~ played_hours + age, data = train) |>\n",
    "  step_scale(all_predictors()) |>\n",
    "  step_center(all_predictors())\n",
    "\n",
    "k_vals <- tibble(neighbors = seq(from = 1, to = 100, by = 1))\n",
    "\n",
    "p_vfold <- vfold_cv(train, v = 10, strata = subscribe)\n",
    "\n",
    "knn_results <- workflow() |>\n",
    "  add_recipe(recipe) |>\n",
    "  add_model(knn_spec) |>\n",
    "  tune_grid(resamples = p_vfold, grid = k_vals) |>\n",
    "  collect_metrics()\n",
    "\n",
    "accuracies <- knn_results |>\n",
    "  filter(.metric == \"accuracy\")\n",
    "\n",
    "accuracies"
   ]
  },
  {
   "cell_type": "code",
   "execution_count": 4,
   "id": "21baefb6-0bbb-4dad-b90b-fada7bd5f5cf",
   "metadata": {},
   "outputs": [
    {
     "ename": "ERROR",
     "evalue": "Error in eval(expr, envir, enclos): object 'accuracies' not found\n",
     "output_type": "error",
     "traceback": [
      "Error in eval(expr, envir, enclos): object 'accuracies' not found\nTraceback:\n",
      "1. ggplot(accuracies, aes(x = neighbors, y = mean))"
     ]
    }
   ],
   "source": [
    "best_k_plot <- accuracies |>\n",
    "    ggplot(aes(x = neighbors, y = mean)) +\n",
    "    geom_point() +\n",
    "    geom_line() +\n",
    "    xlab(\"Number of K\") +\n",
    "    ylab(\"Accuracy\") +\n",
    "    ggtitle(\"Graph 3: Plot of estimated Accuracy versus the Number of Neighbors\") +\n",
    "    theme(text = element_text(size = 15))\n",
    "\n",
    "best_k <- accuracies |>\n",
    "        arrange(desc(mean)) |>\n",
    "        head(1) |>\n",
    "        pull(neighbors)\n",
    "\n",
    "best_k_plot\n",
    "best_k"
   ]
  },
  {
   "cell_type": "markdown",
   "id": "74fbfe1b-344a-423b-84b0-3a9c9c473224",
   "metadata": {},
   "source": [
    "The best K was visualized as a plot of estimated accuracy versus the number of neighbors, and quantified to obtain which value has the highest accuracy mean. In this case, graph 3 shows that K = 25 is optimal."
   ]
  },
  {
   "cell_type": "markdown",
   "id": "3b94b446-c88a-4a4f-b70d-44cfe729afcf",
   "metadata": {},
   "source": [
    "V-fold cross validation was also done to further improve our model. Accuracies of the model using different v-folds were compared, and revealed that a 10-fold cross validation resulted in higher accuracy and lower standard error relative to the 5-fold. Thus, 10-fold cross-validation would improve the model by reducing variability and increasing reliability."
   ]
  },
  {
   "cell_type": "code",
   "execution_count": null,
   "id": "451cef93-650d-4dfc-ab68-27964e167d60",
   "metadata": {},
   "outputs": [],
   "source": [
    "knn_spec_new <- nearest_neighbor(weight_func = \"rectangular\", neighbors = best_k) |>\n",
    "  set_engine(\"kknn\") |>\n",
    "  set_mode(\"classification\")\n",
    "\n",
    "vfold_5 <- vfold_cv(train, v = 5, strata = subscribe)\n",
    "\n",
    "vfold_5_fit <- workflow() |>\n",
    "    add_recipe(recipe) |>\n",
    "    add_model(knn_spec_new) |>\n",
    "    fit_resamples(resamples = vfold_5)\n",
    "\n",
    "vfold_5_metrics <- vfold_5_fit |>\n",
    "    collect_metrics() |>\n",
    "    filter(.metric == \"accuracy\")\n",
    "\n",
    "vfold_5_metrics\n",
    "\n",
    "vfold_10_fit <- workflow() |>\n",
    "    add_recipe(recipe) |>\n",
    "    add_model(knn_spec_new) |>\n",
    "    fit_resamples(resamples = p_vfold)\n",
    "\n",
    "vfold_10_metrics <- vfold_10_fit |>\n",
    "    collect_metrics() |>\n",
    "    filter(.metric == \"accuracy\")\n",
    "\n",
    "vfold_10_metrics"
   ]
  },
  {
   "cell_type": "markdown",
   "id": "7029f987-dc0d-43b2-9206-3a81509742a5",
   "metadata": {},
   "source": [
    "The quality metrics for the final tuned model were found. Accuracy was 73.5%, Precision was also 73.5%, and Recall was 100%. Relatively high metrics were obtained, especially a recall of 100%, which shows that the model can accurately identify subscribed players. However, the lower accuracy and precision suggest that the model may still misclassify non-subscribers."
   ]
  },
  {
   "cell_type": "code",
   "execution_count": null,
   "id": "7fd0fcee-3e57-4c5f-8547-720de3bd001d",
   "metadata": {},
   "outputs": [],
   "source": [
    "knn_fit <- workflow() |>\n",
    "    add_recipe(recipe) |>\n",
    "    add_model(knn_spec_new) |>\n",
    "    fit(data = train)\n",
    "\n",
    "p_predictions <- predict(knn_fit, test) |>\n",
    "  bind_cols(test)\n",
    "\n",
    "prediction_accuracy <- p_predictions |>\n",
    "  metrics(truth = subscribe, estimate = .pred_class) |>\n",
    "  filter(.metric == \"accuracy\")\n",
    "\n",
    "prediction_precision <- p_predictions|>\n",
    "    precision(truth = subscribe, estimate = .pred_class, event_level = \"second\")\n",
    "\n",
    "prediction_recall <- p_predictions |>\n",
    "    recall(truth = subscribe, estimate = .pred_class, event_level = \"second\")\n",
    "\n",
    "prediction_accuracy\n",
    "prediction_precision\n",
    "prediction_recall"
   ]
  },
  {
   "cell_type": "markdown",
   "id": "7a9c8196-dff3-4e1c-b913-2485a99317a2",
   "metadata": {},
   "source": [
    "The confusion matrix reveals how 0 FALSE observations (not subscribed) were correctly classified as FALSE, and 36 TRUE (subscribed) observations were correctly classified as TRUE. However, it classified 13 FALSE observations to TRUE."
   ]
  },
  {
   "cell_type": "code",
   "execution_count": null,
   "id": "bf7a8eca-eedd-4835-8504-676490a8d5e1",
   "metadata": {},
   "outputs": [],
   "source": [
    "confusion <- p_predictions |>\n",
    "             conf_mat(truth = subscribe, estimate = .pred_class)\n",
    "confusion"
   ]
  },
  {
   "cell_type": "markdown",
   "id": "f5f9fcac-99a2-473c-b742-62f19d4ad788",
   "metadata": {},
   "source": [
    "Plotting the trained test data visualizes how the classifier always classifies the status of the subscription to \"TRUE\". Graph 4 below shows that a player will always subscribe to the newsletter."
   ]
  },
  {
   "cell_type": "code",
   "execution_count": 2,
   "id": "8287b653-c6a5-411e-b161-d67a7c29a42d",
   "metadata": {},
   "outputs": [
    {
     "ename": "ERROR",
     "evalue": "Error in prep(step_center(step_scale(recipe(subscribe ~ played_hours + : could not find function \"prep\"\n",
     "output_type": "error",
     "traceback": [
      "Error in prep(step_center(step_scale(recipe(subscribe ~ played_hours + : could not find function \"prep\"\nTraceback:\n"
     ]
    }
   ],
   "source": [
    "recipes <- recipe(subscribe ~ played_hours + age, data = test) |>\n",
    "  step_scale(all_predictors()) |>\n",
    "  step_center(all_predictors()) |>\n",
    "  prep()\n",
    "\n",
    "scaled_players <- bake(recipes, players)\n",
    "\n",
    "are_grid <- seq(min(scaled_players$age),\n",
    "                max(scaled_players$age),\n",
    "                length.out = 100)\n",
    "smo_grid <- seq(min(scaled_players$played_hours),\n",
    "                max(scaled_players$played_hours),\n",
    "                length.out = 100)\n",
    "asgrid <- as_tibble(expand.grid(age = are_grid,\n",
    "                                played_hours = smo_grid))\n",
    "\n",
    "knnPredGrid <- predict(knn_fit, asgrid)\n",
    "\n",
    "prediction_table <- bind_cols(knnPredGrid, asgrid) |>\n",
    "  rename(subscribe = .pred_class)\n",
    "\n",
    "wkflw_plot <-\n",
    "  ggplot() +\n",
    "  geom_point(data = scaled_players,\n",
    "             mapping = aes(x = age,\n",
    "                           y = played_hours,\n",
    "                           color = subscribe),\n",
    "             alpha = 0.75) +\n",
    "  geom_point(data = prediction_table,\n",
    "             mapping = aes(x = age,\n",
    "                           y = played_hours,\n",
    "                           color = subscribe),\n",
    "             alpha = 0.02,\n",
    "             size = 5) +\n",
    "  labs(color = \"Subscription status (T/F)\",\n",
    "       x = \"Standardized Player age (years)\",\n",
    "       y = \"Standardized Game play time (in hours)\", \n",
    "       title = \"Graph 4: Data with background color indicating the decision of classifier\") +\n",
    "  scale_color_manual(values = c(\"darkorange\", \"steelblue\")) +\n",
    "  theme(text = element_text(size = 12))\n",
    "\n",
    "wkflw_plot"
   ]
  },
  {
   "cell_type": "markdown",
   "id": "070cba2d-3d93-45b9-9ba6-a51ad8e8cb76",
   "metadata": {},
   "source": [
    "## Discussion:"
   ]
  },
  {
   "cell_type": "markdown",
   "id": "d39bcb11-07d1-471c-a315-ff9c6f49de39",
   "metadata": {},
   "source": [
    "Data analysis using our K-nearest neighbors (KNN) classifier found that hours played and player age cannot accurately predict whether a player will subscribe to the newsletter or not. In the plot of the test data, despite having a high accuracy and precision, in addition to a recall of 100%, the model classified all players as likely to subscribe, regardless of their actual subscription. This shows that while the model can perfectly identify subscribed players (as shown in the perfect recall), it cannot accurately differentiate between subscribers and non-subscribers. Thus, this limits the model's predictive power.\n",
    "\n",
    "This outcome was not expected. Graph 1 shows that players with higher playing time tend to subscribe, and Graph 2 demonstrates that older players are less likely to subscribe. This should mean that played hours and age should be impactful predictors, but it was not. There seemed to be a relationship between the variables and subscription, but the KNN model's overclassification of players as subscribed tells otherwise. This imbalance could be due to the dataset having more subscribed players (144) than non-subscribers (52), which would lead to undersampling and cause the model to lean toward the majority class.\n",
    "\n",
    "These findings show that played hours and age are not reliable for predicting subscription. In companies for games like Minecraft, this tells marketers to look at other possible predictors, like in-game preferences. Despite the model's perfect recall, it is biased towards the majority class (subscribed players, who outnumber non-subscribers). Overall, this shows that more diverse and balanced data is necessary to create more accurate models to understand player subscription behaviour.\n",
    "\n",
    "Besides needing to know what other factors can help better understand player subscription, it is important to ask if the dataset is the problem. This means that played hours and age could have been reliable indicators with stronger data. Future research could explore the impact of minimizing the bias in our model, and whether alternative datasets are key. Additionally, exploring more player characteristics like spending habits and social engagement can contribute to predictions, as incorporating more predictors could further improve the model's ability to identify subscribers. Another unique exploration would be seeing if these findings are specific to Minecraft only, or if it is the same for every video game."
   ]
  }
 ],
 "metadata": {
  "kernelspec": {
   "display_name": "R",
   "language": "R",
   "name": "ir"
  },
  "language_info": {
   "codemirror_mode": "r",
   "file_extension": ".r",
   "mimetype": "text/x-r-source",
   "name": "R",
   "pygments_lexer": "r",
   "version": "4.3.3"
  }
 },
 "nbformat": 4,
 "nbformat_minor": 5
}
