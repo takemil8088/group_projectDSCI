{
 "cells": [
  {
   "cell_type": "markdown",
   "id": "49dbffdc-9026-4642-b65c-468ac756d399",
   "metadata": {},
   "source": [
    "\n",
    "Index for Ordering Project\n",
    "1. Load Dataset\n",
    "2. Tuning to get optimal K (highest accuracy)\n",
    "3. Showing why 10-fold (higher accuracay) is better than 5-fold\n",
    "4. Precision, Recall, etc."
   ]
  },
  {
   "cell_type": "code",
   "execution_count": null,
   "id": "464b866b-e253-41b4-ad8b-1cd433ba7e29",
   "metadata": {},
   "outputs": [],
   "source": []
  }
 ],
 "metadata": {
  "kernelspec": {
   "display_name": "R",
   "language": "R",
   "name": "ir"
  },
  "language_info": {
   "codemirror_mode": "r",
   "file_extension": ".r",
   "mimetype": "text/x-r-source",
   "name": "R",
   "pygments_lexer": "r",
   "version": "4.3.3"
  }
 },
 "nbformat": 4,
 "nbformat_minor": 5
}
