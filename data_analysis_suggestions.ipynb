{
 "cells": [
  {
   "cell_type": "markdown",
   "id": "49dbffdc-9026-4642-b65c-468ac756d399",
   "metadata": {},
   "source": [
    "\n",
    "Index for Ordering Project\n",
    "1. Load Dataset\n",
    "2. Tuning to get optimal K (highest accuracy)\n",
    "3. Present final statistics with K\n",
    "4. Showing why 10-fold (higher accuracy) is better than 5-fold\n",
    "5. Precision, Recall, etc."
   ]
  },
  {
   "cell_type": "code",
   "execution_count": 8,
   "id": "d2b2d169-5cf8-426e-93cc-4d09095d0b7e",
   "metadata": {},
   "outputs": [
    {
     "name": "stderr",
     "output_type": "stream",
     "text": [
      "\u001b[1mRows: \u001b[22m\u001b[34m196\u001b[39m \u001b[1mColumns: \u001b[22m\u001b[34m7\u001b[39m\n",
      "\u001b[36m──\u001b[39m \u001b[1mColumn specification\u001b[22m \u001b[36m────────────────────────────────────────────────────────\u001b[39m\n",
      "\u001b[1mDelimiter:\u001b[22m \",\"\n",
      "\u001b[31mchr\u001b[39m (4): experience, hashedEmail, name, gender\n",
      "\u001b[32mdbl\u001b[39m (2): played_hours, Age\n",
      "\u001b[33mlgl\u001b[39m (1): subscribe\n",
      "\n",
      "\u001b[36mℹ\u001b[39m Use `spec()` to retrieve the full column specification for this data.\n",
      "\u001b[36mℹ\u001b[39m Specify the column types or set `show_col_types = FALSE` to quiet this message.\n"
     ]
    }
   ],
   "source": [
    "# 1. Load Dataset\n",
    "library(tidyverse)\n",
    "library(repr)\n",
    "library(tidymodels)\n",
    "\n",
    "set.seed(1)\n",
    "\n",
    "url_pl <- \"https://raw.githubusercontent.com/takemil8088/ind-porject/refs/heads/main/players.csv\"\n",
    "players <- read_csv(url_pl) |>\n",
    "    select(experience, subscribe, played_hours, gender, Age) |>\n",
    "    filter(!is.na(experience), !is.na(subscribe), !is.na(played_hours), !is.na(gender), !is.na(Age)) |>\n",
    "    mutate(subscribe = as_factor(subscribe)) |>\n",
    "    rename(age = Age)"
   ]
  },
  {
   "cell_type": "code",
   "execution_count": 23,
   "id": "82d3a41d-ba69-4c33-a848-8c8085eabcc1",
   "metadata": {},
   "outputs": [
    {
     "data": {
      "text/html": [
       "23"
      ],
      "text/latex": [
       "23"
      ],
      "text/markdown": [
       "23"
      ],
      "text/plain": [
       "[1] 23"
      ]
     },
     "metadata": {},
     "output_type": "display_data"
    }
   ],
   "source": [
    "# 2. Tuning to get optimal K (highest accuracy)\n",
    "split <- initial_split(players, prop = 0.80, strata = subscribe)\n",
    "train <- training(split)\n",
    "test <- testing(split)\n",
    "\n",
    "recipe <- recipe(subscribe ~ played_hours + age, data = train) |>\n",
    "  step_scale(all_predictors()) |>\n",
    "  step_center(all_predictors())\n",
    "\n",
    "knn_spe <- nearest_neighbor(weight_func = \"rectangular\",\n",
    "                             neighbors = tune()) |>\n",
    "  set_engine(\"kknn\") |>\n",
    "  set_mode(\"classification\")\n",
    "\n",
    "p_vfold <- vfold_cv(train, v = 10, strata = subscribe)\n",
    "\n",
    "k_vals <- tibble(neighbors = seq(from = 1, to = 100, by = 1))\n",
    "\n",
    "knn_results <- workflow() |>\n",
    "  add_recipe(recipe) |>\n",
    "  add_model(knn_spe) |>\n",
    "  tune_grid(resamples = p_vfold, grid = k_vals) |>\n",
    "  collect_metrics()\n",
    "\n",
    "accuracies <- knn_results |>\n",
    "  filter(.metric == \"accuracy\")\n",
    "\n",
    "best_k <- accuracies |>\n",
    "        arrange(desc(mean)) |>\n",
    "        head(1) |>\n",
    "        pull(neighbors)\n",
    "\n",
    "best_k"
   ]
  },
  {
   "cell_type": "code",
   "execution_count": 21,
   "id": "4fd484f1-bbf7-489f-9511-e1263439b65a",
   "metadata": {},
   "outputs": [],
   "source": [
    "# bro why does seq(from = 1, to = 50, by = 1) give K = 18 instead of K = 21"
   ]
  }
 ],
 "metadata": {
  "kernelspec": {
   "display_name": "R",
   "language": "R",
   "name": "ir"
  },
  "language_info": {
   "codemirror_mode": "r",
   "file_extension": ".r",
   "mimetype": "text/x-r-source",
   "name": "R",
   "pygments_lexer": "r",
   "version": "4.3.3"
  }
 },
 "nbformat": 4,
 "nbformat_minor": 5
}
